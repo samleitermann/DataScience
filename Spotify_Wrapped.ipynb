{
  "nbformat": 4,
  "nbformat_minor": 0,
  "metadata": {
    "colab": {
      "provenance": [],
      "include_colab_link": true
    },
    "kernelspec": {
      "name": "python3",
      "display_name": "Python 3"
    },
    "language_info": {
      "name": "python"
    },
    "widgets": {
      "application/vnd.jupyter.widget-state+json": {
        "427c455f912a4af392fc636bbc1b9fa4": {
          "model_module": "@jupyter-widgets/controls",
          "model_name": "HBoxModel",
          "model_module_version": "1.5.0",
          "state": {
            "_dom_classes": [],
            "_model_module": "@jupyter-widgets/controls",
            "_model_module_version": "1.5.0",
            "_model_name": "HBoxModel",
            "_view_count": null,
            "_view_module": "@jupyter-widgets/controls",
            "_view_module_version": "1.5.0",
            "_view_name": "HBoxView",
            "box_style": "",
            "children": [
              "IPY_MODEL_1f3110c06cad433581c730915915f8b1",
              "IPY_MODEL_76caf252995045dda3b09eabb6220c8b",
              "IPY_MODEL_4cf12b2583aa482b99b37326268bb498"
            ],
            "layout": "IPY_MODEL_ebc0389694484d008b0734eb260aa431"
          }
        },
        "1f3110c06cad433581c730915915f8b1": {
          "model_module": "@jupyter-widgets/controls",
          "model_name": "HTMLModel",
          "model_module_version": "1.5.0",
          "state": {
            "_dom_classes": [],
            "_model_module": "@jupyter-widgets/controls",
            "_model_module_version": "1.5.0",
            "_model_name": "HTMLModel",
            "_view_count": null,
            "_view_module": "@jupyter-widgets/controls",
            "_view_module_version": "1.5.0",
            "_view_name": "HTMLView",
            "description": "",
            "description_tooltip": null,
            "layout": "IPY_MODEL_9083c2da4c4a47efbc368164b2289847",
            "placeholder": "​",
            "style": "IPY_MODEL_f5b118d62b8846d6afbf441b0322af52",
            "value": "100%"
          }
        },
        "76caf252995045dda3b09eabb6220c8b": {
          "model_module": "@jupyter-widgets/controls",
          "model_name": "FloatProgressModel",
          "model_module_version": "1.5.0",
          "state": {
            "_dom_classes": [],
            "_model_module": "@jupyter-widgets/controls",
            "_model_module_version": "1.5.0",
            "_model_name": "FloatProgressModel",
            "_view_count": null,
            "_view_module": "@jupyter-widgets/controls",
            "_view_module_version": "1.5.0",
            "_view_name": "ProgressView",
            "bar_style": "success",
            "description": "",
            "description_tooltip": null,
            "layout": "IPY_MODEL_aa431b9f3f264fdea4756a135971d2f2",
            "max": 6336,
            "min": 0,
            "orientation": "horizontal",
            "style": "IPY_MODEL_a6a7809960bb469589387e27f5b25351",
            "value": 6336
          }
        },
        "4cf12b2583aa482b99b37326268bb498": {
          "model_module": "@jupyter-widgets/controls",
          "model_name": "HTMLModel",
          "model_module_version": "1.5.0",
          "state": {
            "_dom_classes": [],
            "_model_module": "@jupyter-widgets/controls",
            "_model_module_version": "1.5.0",
            "_model_name": "HTMLModel",
            "_view_count": null,
            "_view_module": "@jupyter-widgets/controls",
            "_view_module_version": "1.5.0",
            "_view_name": "HTMLView",
            "description": "",
            "description_tooltip": null,
            "layout": "IPY_MODEL_99acf9e2a173467b9f1bdfe968db38ab",
            "placeholder": "​",
            "style": "IPY_MODEL_264d75d4baad423bbd3a83c074c61867",
            "value": " 6336/6336 [17:56&lt;00:00,  5.37it/s]"
          }
        },
        "ebc0389694484d008b0734eb260aa431": {
          "model_module": "@jupyter-widgets/base",
          "model_name": "LayoutModel",
          "model_module_version": "1.2.0",
          "state": {
            "_model_module": "@jupyter-widgets/base",
            "_model_module_version": "1.2.0",
            "_model_name": "LayoutModel",
            "_view_count": null,
            "_view_module": "@jupyter-widgets/base",
            "_view_module_version": "1.2.0",
            "_view_name": "LayoutView",
            "align_content": null,
            "align_items": null,
            "align_self": null,
            "border": null,
            "bottom": null,
            "display": null,
            "flex": null,
            "flex_flow": null,
            "grid_area": null,
            "grid_auto_columns": null,
            "grid_auto_flow": null,
            "grid_auto_rows": null,
            "grid_column": null,
            "grid_gap": null,
            "grid_row": null,
            "grid_template_areas": null,
            "grid_template_columns": null,
            "grid_template_rows": null,
            "height": null,
            "justify_content": null,
            "justify_items": null,
            "left": null,
            "margin": null,
            "max_height": null,
            "max_width": null,
            "min_height": null,
            "min_width": null,
            "object_fit": null,
            "object_position": null,
            "order": null,
            "overflow": null,
            "overflow_x": null,
            "overflow_y": null,
            "padding": null,
            "right": null,
            "top": null,
            "visibility": null,
            "width": null
          }
        },
        "9083c2da4c4a47efbc368164b2289847": {
          "model_module": "@jupyter-widgets/base",
          "model_name": "LayoutModel",
          "model_module_version": "1.2.0",
          "state": {
            "_model_module": "@jupyter-widgets/base",
            "_model_module_version": "1.2.0",
            "_model_name": "LayoutModel",
            "_view_count": null,
            "_view_module": "@jupyter-widgets/base",
            "_view_module_version": "1.2.0",
            "_view_name": "LayoutView",
            "align_content": null,
            "align_items": null,
            "align_self": null,
            "border": null,
            "bottom": null,
            "display": null,
            "flex": null,
            "flex_flow": null,
            "grid_area": null,
            "grid_auto_columns": null,
            "grid_auto_flow": null,
            "grid_auto_rows": null,
            "grid_column": null,
            "grid_gap": null,
            "grid_row": null,
            "grid_template_areas": null,
            "grid_template_columns": null,
            "grid_template_rows": null,
            "height": null,
            "justify_content": null,
            "justify_items": null,
            "left": null,
            "margin": null,
            "max_height": null,
            "max_width": null,
            "min_height": null,
            "min_width": null,
            "object_fit": null,
            "object_position": null,
            "order": null,
            "overflow": null,
            "overflow_x": null,
            "overflow_y": null,
            "padding": null,
            "right": null,
            "top": null,
            "visibility": null,
            "width": null
          }
        },
        "f5b118d62b8846d6afbf441b0322af52": {
          "model_module": "@jupyter-widgets/controls",
          "model_name": "DescriptionStyleModel",
          "model_module_version": "1.5.0",
          "state": {
            "_model_module": "@jupyter-widgets/controls",
            "_model_module_version": "1.5.0",
            "_model_name": "DescriptionStyleModel",
            "_view_count": null,
            "_view_module": "@jupyter-widgets/base",
            "_view_module_version": "1.2.0",
            "_view_name": "StyleView",
            "description_width": ""
          }
        },
        "aa431b9f3f264fdea4756a135971d2f2": {
          "model_module": "@jupyter-widgets/base",
          "model_name": "LayoutModel",
          "model_module_version": "1.2.0",
          "state": {
            "_model_module": "@jupyter-widgets/base",
            "_model_module_version": "1.2.0",
            "_model_name": "LayoutModel",
            "_view_count": null,
            "_view_module": "@jupyter-widgets/base",
            "_view_module_version": "1.2.0",
            "_view_name": "LayoutView",
            "align_content": null,
            "align_items": null,
            "align_self": null,
            "border": null,
            "bottom": null,
            "display": null,
            "flex": null,
            "flex_flow": null,
            "grid_area": null,
            "grid_auto_columns": null,
            "grid_auto_flow": null,
            "grid_auto_rows": null,
            "grid_column": null,
            "grid_gap": null,
            "grid_row": null,
            "grid_template_areas": null,
            "grid_template_columns": null,
            "grid_template_rows": null,
            "height": null,
            "justify_content": null,
            "justify_items": null,
            "left": null,
            "margin": null,
            "max_height": null,
            "max_width": null,
            "min_height": null,
            "min_width": null,
            "object_fit": null,
            "object_position": null,
            "order": null,
            "overflow": null,
            "overflow_x": null,
            "overflow_y": null,
            "padding": null,
            "right": null,
            "top": null,
            "visibility": null,
            "width": null
          }
        },
        "a6a7809960bb469589387e27f5b25351": {
          "model_module": "@jupyter-widgets/controls",
          "model_name": "ProgressStyleModel",
          "model_module_version": "1.5.0",
          "state": {
            "_model_module": "@jupyter-widgets/controls",
            "_model_module_version": "1.5.0",
            "_model_name": "ProgressStyleModel",
            "_view_count": null,
            "_view_module": "@jupyter-widgets/base",
            "_view_module_version": "1.2.0",
            "_view_name": "StyleView",
            "bar_color": null,
            "description_width": ""
          }
        },
        "99acf9e2a173467b9f1bdfe968db38ab": {
          "model_module": "@jupyter-widgets/base",
          "model_name": "LayoutModel",
          "model_module_version": "1.2.0",
          "state": {
            "_model_module": "@jupyter-widgets/base",
            "_model_module_version": "1.2.0",
            "_model_name": "LayoutModel",
            "_view_count": null,
            "_view_module": "@jupyter-widgets/base",
            "_view_module_version": "1.2.0",
            "_view_name": "LayoutView",
            "align_content": null,
            "align_items": null,
            "align_self": null,
            "border": null,
            "bottom": null,
            "display": null,
            "flex": null,
            "flex_flow": null,
            "grid_area": null,
            "grid_auto_columns": null,
            "grid_auto_flow": null,
            "grid_auto_rows": null,
            "grid_column": null,
            "grid_gap": null,
            "grid_row": null,
            "grid_template_areas": null,
            "grid_template_columns": null,
            "grid_template_rows": null,
            "height": null,
            "justify_content": null,
            "justify_items": null,
            "left": null,
            "margin": null,
            "max_height": null,
            "max_width": null,
            "min_height": null,
            "min_width": null,
            "object_fit": null,
            "object_position": null,
            "order": null,
            "overflow": null,
            "overflow_x": null,
            "overflow_y": null,
            "padding": null,
            "right": null,
            "top": null,
            "visibility": null,
            "width": null
          }
        },
        "264d75d4baad423bbd3a83c074c61867": {
          "model_module": "@jupyter-widgets/controls",
          "model_name": "DescriptionStyleModel",
          "model_module_version": "1.5.0",
          "state": {
            "_model_module": "@jupyter-widgets/controls",
            "_model_module_version": "1.5.0",
            "_model_name": "DescriptionStyleModel",
            "_view_count": null,
            "_view_module": "@jupyter-widgets/base",
            "_view_module_version": "1.2.0",
            "_view_name": "StyleView",
            "description_width": ""
          }
        },
        "8063f1c169bb43b18e5b0526f1efc5ef": {
          "model_module": "@jupyter-widgets/controls",
          "model_name": "HBoxModel",
          "model_module_version": "1.5.0",
          "state": {
            "_dom_classes": [],
            "_model_module": "@jupyter-widgets/controls",
            "_model_module_version": "1.5.0",
            "_model_name": "HBoxModel",
            "_view_count": null,
            "_view_module": "@jupyter-widgets/controls",
            "_view_module_version": "1.5.0",
            "_view_name": "HBoxView",
            "box_style": "",
            "children": [
              "IPY_MODEL_bffd0caa5ed34fcfa8603f7b6e008e76",
              "IPY_MODEL_053f4b2acdc544278cf1d3c1b6dfb6ed",
              "IPY_MODEL_3a7c070817c84b8b82a53022b3ed55ff"
            ],
            "layout": "IPY_MODEL_8d6d0ff4d8fb4b33ba6d8a08600bb280"
          }
        },
        "bffd0caa5ed34fcfa8603f7b6e008e76": {
          "model_module": "@jupyter-widgets/controls",
          "model_name": "HTMLModel",
          "model_module_version": "1.5.0",
          "state": {
            "_dom_classes": [],
            "_model_module": "@jupyter-widgets/controls",
            "_model_module_version": "1.5.0",
            "_model_name": "HTMLModel",
            "_view_count": null,
            "_view_module": "@jupyter-widgets/controls",
            "_view_module_version": "1.5.0",
            "_view_name": "HTMLView",
            "description": "",
            "description_tooltip": null,
            "layout": "IPY_MODEL_0631f447f40647a88e0765b484c23929",
            "placeholder": "​",
            "style": "IPY_MODEL_a75693bcfacb4ebc8a01bc1bf4e73c03",
            "value": "100%"
          }
        },
        "053f4b2acdc544278cf1d3c1b6dfb6ed": {
          "model_module": "@jupyter-widgets/controls",
          "model_name": "FloatProgressModel",
          "model_module_version": "1.5.0",
          "state": {
            "_dom_classes": [],
            "_model_module": "@jupyter-widgets/controls",
            "_model_module_version": "1.5.0",
            "_model_name": "FloatProgressModel",
            "_view_count": null,
            "_view_module": "@jupyter-widgets/controls",
            "_view_module_version": "1.5.0",
            "_view_name": "ProgressView",
            "bar_style": "success",
            "description": "",
            "description_tooltip": null,
            "layout": "IPY_MODEL_3e8a01e9d43741f7974e941821e3353c",
            "max": 2608,
            "min": 0,
            "orientation": "horizontal",
            "style": "IPY_MODEL_101aa014cf8242e09c217e5f459fe3c4",
            "value": 2608
          }
        },
        "3a7c070817c84b8b82a53022b3ed55ff": {
          "model_module": "@jupyter-widgets/controls",
          "model_name": "HTMLModel",
          "model_module_version": "1.5.0",
          "state": {
            "_dom_classes": [],
            "_model_module": "@jupyter-widgets/controls",
            "_model_module_version": "1.5.0",
            "_model_name": "HTMLModel",
            "_view_count": null,
            "_view_module": "@jupyter-widgets/controls",
            "_view_module_version": "1.5.0",
            "_view_name": "HTMLView",
            "description": "",
            "description_tooltip": null,
            "layout": "IPY_MODEL_60311eeed60d4752a0b2fc2bbd83eb08",
            "placeholder": "​",
            "style": "IPY_MODEL_ed4af58e59b04bd59f523f7696f953ee",
            "value": " 2608/2608 [08:32&lt;00:00,  5.39it/s]"
          }
        },
        "8d6d0ff4d8fb4b33ba6d8a08600bb280": {
          "model_module": "@jupyter-widgets/base",
          "model_name": "LayoutModel",
          "model_module_version": "1.2.0",
          "state": {
            "_model_module": "@jupyter-widgets/base",
            "_model_module_version": "1.2.0",
            "_model_name": "LayoutModel",
            "_view_count": null,
            "_view_module": "@jupyter-widgets/base",
            "_view_module_version": "1.2.0",
            "_view_name": "LayoutView",
            "align_content": null,
            "align_items": null,
            "align_self": null,
            "border": null,
            "bottom": null,
            "display": null,
            "flex": null,
            "flex_flow": null,
            "grid_area": null,
            "grid_auto_columns": null,
            "grid_auto_flow": null,
            "grid_auto_rows": null,
            "grid_column": null,
            "grid_gap": null,
            "grid_row": null,
            "grid_template_areas": null,
            "grid_template_columns": null,
            "grid_template_rows": null,
            "height": null,
            "justify_content": null,
            "justify_items": null,
            "left": null,
            "margin": null,
            "max_height": null,
            "max_width": null,
            "min_height": null,
            "min_width": null,
            "object_fit": null,
            "object_position": null,
            "order": null,
            "overflow": null,
            "overflow_x": null,
            "overflow_y": null,
            "padding": null,
            "right": null,
            "top": null,
            "visibility": null,
            "width": null
          }
        },
        "0631f447f40647a88e0765b484c23929": {
          "model_module": "@jupyter-widgets/base",
          "model_name": "LayoutModel",
          "model_module_version": "1.2.0",
          "state": {
            "_model_module": "@jupyter-widgets/base",
            "_model_module_version": "1.2.0",
            "_model_name": "LayoutModel",
            "_view_count": null,
            "_view_module": "@jupyter-widgets/base",
            "_view_module_version": "1.2.0",
            "_view_name": "LayoutView",
            "align_content": null,
            "align_items": null,
            "align_self": null,
            "border": null,
            "bottom": null,
            "display": null,
            "flex": null,
            "flex_flow": null,
            "grid_area": null,
            "grid_auto_columns": null,
            "grid_auto_flow": null,
            "grid_auto_rows": null,
            "grid_column": null,
            "grid_gap": null,
            "grid_row": null,
            "grid_template_areas": null,
            "grid_template_columns": null,
            "grid_template_rows": null,
            "height": null,
            "justify_content": null,
            "justify_items": null,
            "left": null,
            "margin": null,
            "max_height": null,
            "max_width": null,
            "min_height": null,
            "min_width": null,
            "object_fit": null,
            "object_position": null,
            "order": null,
            "overflow": null,
            "overflow_x": null,
            "overflow_y": null,
            "padding": null,
            "right": null,
            "top": null,
            "visibility": null,
            "width": null
          }
        },
        "a75693bcfacb4ebc8a01bc1bf4e73c03": {
          "model_module": "@jupyter-widgets/controls",
          "model_name": "DescriptionStyleModel",
          "model_module_version": "1.5.0",
          "state": {
            "_model_module": "@jupyter-widgets/controls",
            "_model_module_version": "1.5.0",
            "_model_name": "DescriptionStyleModel",
            "_view_count": null,
            "_view_module": "@jupyter-widgets/base",
            "_view_module_version": "1.2.0",
            "_view_name": "StyleView",
            "description_width": ""
          }
        },
        "3e8a01e9d43741f7974e941821e3353c": {
          "model_module": "@jupyter-widgets/base",
          "model_name": "LayoutModel",
          "model_module_version": "1.2.0",
          "state": {
            "_model_module": "@jupyter-widgets/base",
            "_model_module_version": "1.2.0",
            "_model_name": "LayoutModel",
            "_view_count": null,
            "_view_module": "@jupyter-widgets/base",
            "_view_module_version": "1.2.0",
            "_view_name": "LayoutView",
            "align_content": null,
            "align_items": null,
            "align_self": null,
            "border": null,
            "bottom": null,
            "display": null,
            "flex": null,
            "flex_flow": null,
            "grid_area": null,
            "grid_auto_columns": null,
            "grid_auto_flow": null,
            "grid_auto_rows": null,
            "grid_column": null,
            "grid_gap": null,
            "grid_row": null,
            "grid_template_areas": null,
            "grid_template_columns": null,
            "grid_template_rows": null,
            "height": null,
            "justify_content": null,
            "justify_items": null,
            "left": null,
            "margin": null,
            "max_height": null,
            "max_width": null,
            "min_height": null,
            "min_width": null,
            "object_fit": null,
            "object_position": null,
            "order": null,
            "overflow": null,
            "overflow_x": null,
            "overflow_y": null,
            "padding": null,
            "right": null,
            "top": null,
            "visibility": null,
            "width": null
          }
        },
        "101aa014cf8242e09c217e5f459fe3c4": {
          "model_module": "@jupyter-widgets/controls",
          "model_name": "ProgressStyleModel",
          "model_module_version": "1.5.0",
          "state": {
            "_model_module": "@jupyter-widgets/controls",
            "_model_module_version": "1.5.0",
            "_model_name": "ProgressStyleModel",
            "_view_count": null,
            "_view_module": "@jupyter-widgets/base",
            "_view_module_version": "1.2.0",
            "_view_name": "StyleView",
            "bar_color": null,
            "description_width": ""
          }
        },
        "60311eeed60d4752a0b2fc2bbd83eb08": {
          "model_module": "@jupyter-widgets/base",
          "model_name": "LayoutModel",
          "model_module_version": "1.2.0",
          "state": {
            "_model_module": "@jupyter-widgets/base",
            "_model_module_version": "1.2.0",
            "_model_name": "LayoutModel",
            "_view_count": null,
            "_view_module": "@jupyter-widgets/base",
            "_view_module_version": "1.2.0",
            "_view_name": "LayoutView",
            "align_content": null,
            "align_items": null,
            "align_self": null,
            "border": null,
            "bottom": null,
            "display": null,
            "flex": null,
            "flex_flow": null,
            "grid_area": null,
            "grid_auto_columns": null,
            "grid_auto_flow": null,
            "grid_auto_rows": null,
            "grid_column": null,
            "grid_gap": null,
            "grid_row": null,
            "grid_template_areas": null,
            "grid_template_columns": null,
            "grid_template_rows": null,
            "height": null,
            "justify_content": null,
            "justify_items": null,
            "left": null,
            "margin": null,
            "max_height": null,
            "max_width": null,
            "min_height": null,
            "min_width": null,
            "object_fit": null,
            "object_position": null,
            "order": null,
            "overflow": null,
            "overflow_x": null,
            "overflow_y": null,
            "padding": null,
            "right": null,
            "top": null,
            "visibility": null,
            "width": null
          }
        },
        "ed4af58e59b04bd59f523f7696f953ee": {
          "model_module": "@jupyter-widgets/controls",
          "model_name": "DescriptionStyleModel",
          "model_module_version": "1.5.0",
          "state": {
            "_model_module": "@jupyter-widgets/controls",
            "_model_module_version": "1.5.0",
            "_model_name": "DescriptionStyleModel",
            "_view_count": null,
            "_view_module": "@jupyter-widgets/base",
            "_view_module_version": "1.2.0",
            "_view_name": "StyleView",
            "description_width": ""
          }
        }
      }
    }
  },
  "cells": [
    {
      "cell_type": "markdown",
      "metadata": {
        "id": "view-in-github",
        "colab_type": "text"
      },
      "source": [
        "<a href=\"https://colab.research.google.com/github/samleitermann/DataScience/blob/main/Spotify_Wrapped.ipynb\" target=\"_parent\"><img src=\"https://colab.research.google.com/assets/colab-badge.svg\" alt=\"Open In Colab\"/></a>"
      ]
    },
    {
      "cell_type": "code",
      "execution_count": 60,
      "metadata": {
        "id": "nibw0n0crYlc",
        "colab": {
          "base_uri": "https://localhost:8080/"
        },
        "outputId": "8b4e5b36-d6ec-4131-8219-33e65196ffa1"
      },
      "outputs": [
        {
          "output_type": "stream",
          "name": "stdout",
          "text": [
            "Requirement already satisfied: datascience in /usr/local/lib/python3.12/dist-packages (0.18.0)\n",
            "Requirement already satisfied: folium>=0.9.1 in /usr/local/lib/python3.12/dist-packages (from datascience) (0.20.0)\n",
            "Requirement already satisfied: setuptools in /usr/local/lib/python3.12/dist-packages (from datascience) (75.2.0)\n",
            "Requirement already satisfied: matplotlib>=3.0.0 in /usr/local/lib/python3.12/dist-packages (from datascience) (3.10.0)\n",
            "Requirement already satisfied: pandas in /usr/local/lib/python3.12/dist-packages (from datascience) (2.2.2)\n",
            "Requirement already satisfied: scipy in /usr/local/lib/python3.12/dist-packages (from datascience) (1.16.2)\n",
            "Requirement already satisfied: numpy in /usr/local/lib/python3.12/dist-packages (from datascience) (2.0.2)\n",
            "Requirement already satisfied: ipython in /usr/local/lib/python3.12/dist-packages (from datascience) (7.34.0)\n",
            "Requirement already satisfied: plotly in /usr/local/lib/python3.12/dist-packages (from datascience) (5.24.1)\n",
            "Requirement already satisfied: branca in /usr/local/lib/python3.12/dist-packages (from datascience) (0.8.1)\n",
            "Requirement already satisfied: jinja2>=2.9 in /usr/local/lib/python3.12/dist-packages (from folium>=0.9.1->datascience) (3.1.6)\n",
            "Requirement already satisfied: requests in /usr/local/lib/python3.12/dist-packages (from folium>=0.9.1->datascience) (2.32.4)\n",
            "Requirement already satisfied: xyzservices in /usr/local/lib/python3.12/dist-packages (from folium>=0.9.1->datascience) (2025.4.0)\n",
            "Requirement already satisfied: contourpy>=1.0.1 in /usr/local/lib/python3.12/dist-packages (from matplotlib>=3.0.0->datascience) (1.3.3)\n",
            "Requirement already satisfied: cycler>=0.10 in /usr/local/lib/python3.12/dist-packages (from matplotlib>=3.0.0->datascience) (0.12.1)\n",
            "Requirement already satisfied: fonttools>=4.22.0 in /usr/local/lib/python3.12/dist-packages (from matplotlib>=3.0.0->datascience) (4.60.1)\n",
            "Requirement already satisfied: kiwisolver>=1.3.1 in /usr/local/lib/python3.12/dist-packages (from matplotlib>=3.0.0->datascience) (1.4.9)\n",
            "Requirement already satisfied: packaging>=20.0 in /usr/local/lib/python3.12/dist-packages (from matplotlib>=3.0.0->datascience) (25.0)\n",
            "Requirement already satisfied: pillow>=8 in /usr/local/lib/python3.12/dist-packages (from matplotlib>=3.0.0->datascience) (11.3.0)\n",
            "Requirement already satisfied: pyparsing>=2.3.1 in /usr/local/lib/python3.12/dist-packages (from matplotlib>=3.0.0->datascience) (3.2.5)\n",
            "Requirement already satisfied: python-dateutil>=2.7 in /usr/local/lib/python3.12/dist-packages (from matplotlib>=3.0.0->datascience) (2.9.0.post0)\n",
            "Requirement already satisfied: jedi>=0.16 in /usr/local/lib/python3.12/dist-packages (from ipython->datascience) (0.19.2)\n",
            "Requirement already satisfied: decorator in /usr/local/lib/python3.12/dist-packages (from ipython->datascience) (4.4.2)\n",
            "Requirement already satisfied: pickleshare in /usr/local/lib/python3.12/dist-packages (from ipython->datascience) (0.7.5)\n",
            "Requirement already satisfied: traitlets>=4.2 in /usr/local/lib/python3.12/dist-packages (from ipython->datascience) (5.7.1)\n",
            "Requirement already satisfied: prompt-toolkit!=3.0.0,!=3.0.1,<3.1.0,>=2.0.0 in /usr/local/lib/python3.12/dist-packages (from ipython->datascience) (3.0.52)\n",
            "Requirement already satisfied: pygments in /usr/local/lib/python3.12/dist-packages (from ipython->datascience) (2.19.2)\n",
            "Requirement already satisfied: backcall in /usr/local/lib/python3.12/dist-packages (from ipython->datascience) (0.2.0)\n",
            "Requirement already satisfied: matplotlib-inline in /usr/local/lib/python3.12/dist-packages (from ipython->datascience) (0.1.7)\n",
            "Requirement already satisfied: pexpect>4.3 in /usr/local/lib/python3.12/dist-packages (from ipython->datascience) (4.9.0)\n",
            "Requirement already satisfied: pytz>=2020.1 in /usr/local/lib/python3.12/dist-packages (from pandas->datascience) (2025.2)\n",
            "Requirement already satisfied: tzdata>=2022.7 in /usr/local/lib/python3.12/dist-packages (from pandas->datascience) (2025.2)\n",
            "Requirement already satisfied: tenacity>=6.2.0 in /usr/local/lib/python3.12/dist-packages (from plotly->datascience) (8.5.0)\n",
            "Requirement already satisfied: parso<0.9.0,>=0.8.4 in /usr/local/lib/python3.12/dist-packages (from jedi>=0.16->ipython->datascience) (0.8.5)\n",
            "Requirement already satisfied: MarkupSafe>=2.0 in /usr/local/lib/python3.12/dist-packages (from jinja2>=2.9->folium>=0.9.1->datascience) (3.0.3)\n",
            "Requirement already satisfied: ptyprocess>=0.5 in /usr/local/lib/python3.12/dist-packages (from pexpect>4.3->ipython->datascience) (0.7.0)\n",
            "Requirement already satisfied: wcwidth in /usr/local/lib/python3.12/dist-packages (from prompt-toolkit!=3.0.0,!=3.0.1,<3.1.0,>=2.0.0->ipython->datascience) (0.2.14)\n",
            "Requirement already satisfied: six>=1.5 in /usr/local/lib/python3.12/dist-packages (from python-dateutil>=2.7->matplotlib>=3.0.0->datascience) (1.17.0)\n",
            "Requirement already satisfied: charset_normalizer<4,>=2 in /usr/local/lib/python3.12/dist-packages (from requests->folium>=0.9.1->datascience) (3.4.3)\n",
            "Requirement already satisfied: idna<4,>=2.5 in /usr/local/lib/python3.12/dist-packages (from requests->folium>=0.9.1->datascience) (3.10)\n",
            "Requirement already satisfied: urllib3<3,>=1.21.1 in /usr/local/lib/python3.12/dist-packages (from requests->folium>=0.9.1->datascience) (2.5.0)\n",
            "Requirement already satisfied: certifi>=2017.4.17 in /usr/local/lib/python3.12/dist-packages (from requests->folium>=0.9.1->datascience) (2025.8.3)\n"
          ]
        }
      ],
      "source": [
        "# Install the datascience library\n",
        "!pip install datascience\n",
        "# Import necessary libraries\n",
        "from datascience import *\n",
        "import numpy as np\n",
        "from google.colab import userdata\n",
        "\n",
        "# Set up matplotlib for inline plotting and apply a style\n",
        "%matplotlib inline\n",
        "import matplotlib.pyplot as plots\n",
        "plots.style.use('fivethirtyeight')"
      ]
    },
    {
      "cell_type": "code",
      "source": [
        "# Read the listening data from a CSV file hosted on GitHub\n",
        "listening_data = Table.read_table('https://raw.githubusercontent.com/samleitermann/DataScience/refs/heads/main/SLLScrobbles.csv')"
      ],
      "metadata": {
        "id": "MQD02xSjVFNr"
      },
      "execution_count": 6,
      "outputs": []
    },
    {
      "cell_type": "code",
      "source": [
        "# Display the first 10 rows of the listening data\n",
        "listening_data.show(10)"
      ],
      "metadata": {
        "colab": {
          "base_uri": "https://localhost:8080/",
          "height": 392
        },
        "id": "NZLFrF2NVOxH",
        "outputId": "46ddcf9d-5032-4680-80ad-b6184983311f"
      },
      "execution_count": 7,
      "outputs": [
        {
          "output_type": "display_data",
          "data": {
            "text/plain": [
              "<IPython.core.display.HTML object>"
            ],
            "text/html": [
              "<table border=\"1\" class=\"dataframe\">\n",
              "    <thead>\n",
              "        <tr>\n",
              "            <th>Date</th> <th>Time</th> <th>Artist</th> <th>Album</th> <th>Track</th>\n",
              "        </tr>\n",
              "    </thead>\n",
              "    <tbody>\n",
              "        <tr>\n",
              "            <td>6-Oct-25</td> <td> 02:20</td> <td>Sofia Isella    </td> <td>Everybody Supports Women</td> <td>Everybody Supports Women       </td>\n",
              "        </tr>\n",
              "        <tr>\n",
              "            <td>5-Oct-25</td> <td> 20:17</td> <td>Imagine Dragons </td> <td>Mercury - Acts 1 & 2    </td> <td>Bones                          </td>\n",
              "        </tr>\n",
              "        <tr>\n",
              "            <td>4-Oct-25</td> <td> 23:24</td> <td>Mariah Carey    </td> <td>Merry Christmas         </td> <td>All I Want for Christmas Is You</td>\n",
              "        </tr>\n",
              "        <tr>\n",
              "            <td>4-Oct-25</td> <td> 20:59</td> <td>Rainbow Strings </td> <td>Sky Color               </td> <td>Sky Color                      </td>\n",
              "        </tr>\n",
              "        <tr>\n",
              "            <td>4-Oct-25</td> <td> 19:22</td> <td>Rainbow Strings </td> <td>My Cloud                </td> <td>My Cloud                       </td>\n",
              "        </tr>\n",
              "        <tr>\n",
              "            <td>4-Oct-25</td> <td> 19:19</td> <td>Eternal Warriors</td> <td>Checkpoint              </td> <td>A Pause in the Journey         </td>\n",
              "        </tr>\n",
              "        <tr>\n",
              "            <td>4-Oct-25</td> <td> 19:16</td> <td>Ruttik Dhakate  </td> <td>Beneath the Quiet Stars </td> <td>Beneath the Quiet Stars        </td>\n",
              "        </tr>\n",
              "        <tr>\n",
              "            <td>4-Oct-25</td> <td> 19:11</td> <td>Moving Gradients</td> <td>Dream Glow              </td> <td>Dream Glow                     </td>\n",
              "        </tr>\n",
              "        <tr>\n",
              "            <td>4-Oct-25</td> <td> 19:09</td> <td>Muse K          </td> <td>Ambient Dreamscape      </td> <td>Blissful Lotus Blossoms        </td>\n",
              "        </tr>\n",
              "        <tr>\n",
              "            <td>4-Oct-25</td> <td> 19:07</td> <td>Casen Wilham    </td> <td>Relaxing Music          </td> <td>Relaxing Music to Work To      </td>\n",
              "        </tr>\n",
              "    </tbody>\n",
              "</table>\n",
              "<p>... (11037 rows omitted)</p>"
            ]
          },
          "metadata": {}
        }
      ]
    },
    {
      "cell_type": "code",
      "source": [
        "# Group the listening data by 'Artist' and 'Track' to get unique tracks and their counts\n",
        "unique_tracks = listening_data.group(['Artist','Track'])"
      ],
      "metadata": {
        "id": "MfQm10YLaABR"
      },
      "execution_count": 9,
      "outputs": []
    },
    {
      "cell_type": "code",
      "source": [
        "# Display the first 10 rows of the unique_tracks table\n",
        "unique_tracks.show(10)"
      ],
      "metadata": {
        "colab": {
          "base_uri": "https://localhost:8080/",
          "height": 392
        },
        "id": "1b-32JSHaMhR",
        "outputId": "d8ff4f5f-76d9-4efa-d9e0-448ce5a9c04b"
      },
      "execution_count": 10,
      "outputs": [
        {
          "output_type": "display_data",
          "data": {
            "text/plain": [
              "<IPython.core.display.HTML object>"
            ],
            "text/html": [
              "<table border=\"1\" class=\"dataframe\">\n",
              "    <thead>\n",
              "        <tr>\n",
              "            <th>Artist</th> <th>Track</th> <th>count</th>\n",
              "        </tr>\n",
              "    </thead>\n",
              "    <tbody>\n",
              "        <tr>\n",
              "            <td>\"Les Misérables Original London Cast\" Ensemble     </td> <td>One Day More                           </td> <td>1    </td>\n",
              "        </tr>\n",
              "        <tr>\n",
              "            <td>\"Les Misérables Original London Cast\" Male Ensemble</td> <td>Prologue: Work Song                    </td> <td>1    </td>\n",
              "        </tr>\n",
              "        <tr>\n",
              "            <td>*NSYNC                                             </td> <td>Bye Bye Bye                            </td> <td>3    </td>\n",
              "        </tr>\n",
              "        <tr>\n",
              "            <td>*NSYNC                                             </td> <td>Merry Christmas, Happy Holidays        </td> <td>1    </td>\n",
              "        </tr>\n",
              "        <tr>\n",
              "            <td>.38 Special                                        </td> <td>Back Where You Belong - Edited Version </td> <td>1    </td>\n",
              "        </tr>\n",
              "        <tr>\n",
              "            <td>.38 Special                                        </td> <td>If I'd Been the One                    </td> <td>2    </td>\n",
              "        </tr>\n",
              "        <tr>\n",
              "            <td>11 Acorn Lane                                      </td> <td>You Make Me Happy (Electro Swing Remix)</td> <td>1    </td>\n",
              "        </tr>\n",
              "        <tr>\n",
              "            <td>2Pac                                               </td> <td>Hail Mary                              </td> <td>1    </td>\n",
              "        </tr>\n",
              "        <tr>\n",
              "            <td>2Pac                                               </td> <td>Thugz Mansion - 2Pac Original/Acoustic </td> <td>5    </td>\n",
              "        </tr>\n",
              "        <tr>\n",
              "            <td>4 Non Blondes                                      </td> <td>What's Up?                             </td> <td>1    </td>\n",
              "        </tr>\n",
              "    </tbody>\n",
              "</table>\n",
              "<p>... (6326 rows omitted)</p>"
            ]
          },
          "metadata": {}
        }
      ]
    },
    {
      "cell_type": "code",
      "source": [
        "# Install or upgrade the spotipy library\n",
        "pip install spotipy --upgrade"
      ],
      "metadata": {
        "colab": {
          "base_uri": "https://localhost:8080/"
        },
        "id": "-hlNm81VyL1_",
        "outputId": "21acc991-9e75-417a-deba-2f2b229a6ad5"
      },
      "execution_count": 11,
      "outputs": [
        {
          "output_type": "stream",
          "name": "stdout",
          "text": [
            "Requirement already satisfied: spotipy in /usr/local/lib/python3.12/dist-packages (2.25.1)\n",
            "Requirement already satisfied: redis>=3.5.3 in /usr/local/lib/python3.12/dist-packages (from spotipy) (6.4.0)\n",
            "Requirement already satisfied: requests>=2.25.0 in /usr/local/lib/python3.12/dist-packages (from spotipy) (2.32.4)\n",
            "Requirement already satisfied: urllib3>=1.26.0 in /usr/local/lib/python3.12/dist-packages (from spotipy) (2.5.0)\n",
            "Requirement already satisfied: charset_normalizer<4,>=2 in /usr/local/lib/python3.12/dist-packages (from requests>=2.25.0->spotipy) (3.4.3)\n",
            "Requirement already satisfied: idna<4,>=2.5 in /usr/local/lib/python3.12/dist-packages (from requests>=2.25.0->spotipy) (3.10)\n",
            "Requirement already satisfied: certifi>=2017.4.17 in /usr/local/lib/python3.12/dist-packages (from requests>=2.25.0->spotipy) (2025.8.3)\n"
          ]
        }
      ]
    },
    {
      "cell_type": "code",
      "source": [
        "# Import the spotipy library and its authentication module\n",
        "import spotipy\n",
        "from spotipy.oauth2 import SpotifyClientCredentials"
      ],
      "metadata": {
        "id": "nIrcHp8uWxFQ"
      },
      "execution_count": 13,
      "outputs": []
    },
    {
      "cell_type": "code",
      "source": [
        "cid = userdata.get(\"Spotifycid\")\n",
        "secret = userdata.get(\"SpotifySecret\")\n",
        "client_credentials_manager = SpotifyClientCredentials(client_id=cid, client_secret=secret)\n",
        "sp = spotipy.Spotify(client_credentials_manager = client_credentials_manager)"
      ],
      "metadata": {
        "id": "8aHu7qaEXsN3"
      },
      "execution_count": 61,
      "outputs": []
    },
    {
      "cell_type": "code",
      "source": [
        "# Import tqdm for progress bar\n",
        "from tqdm.notebook import tqdm\n",
        "\n",
        "# Initialize arrays to store song lengths and popularity\n",
        "song_lengths = np.zeros(unique_tracks.num_rows)\n",
        "song_pops = np.zeros(unique_tracks.num_rows)\n",
        "# Iterate through each unique track with a progress bar\n",
        "for row_index in tqdm(np.arange(0, unique_tracks.num_rows)):\n",
        "  # Get song and artist names\n",
        "  song_name = unique_tracks.row(row_index).item('Track')\n",
        "  artist_name = unique_tracks.row(row_index).item('Artist')\n",
        "  # Search Spotify for the track\n",
        "  track_id = sp.search(q='artist:' + artist_name + ' track:' + song_name, type='track')\n",
        "  # If track is found, extract length and popularity\n",
        "  if len(track_id['tracks']['items']) > 0:\n",
        "    song_info = track_id['tracks']['items'][0]\n",
        "    song_lengths[row_index] = song_info['duration_ms']\n",
        "    song_pops[row_index] = song_info['popularity']\n",
        "  # If track is not found, set length and popularity to -1\n",
        "  else:\n",
        "    song_lengths[row_index] = -1\n",
        "    song_pops[row_index] = -1"
      ],
      "metadata": {
        "id": "dRzqwv7TZBRK",
        "colab": {
          "base_uri": "https://localhost:8080/",
          "height": 49,
          "referenced_widgets": [
            "427c455f912a4af392fc636bbc1b9fa4",
            "1f3110c06cad433581c730915915f8b1",
            "76caf252995045dda3b09eabb6220c8b",
            "4cf12b2583aa482b99b37326268bb498",
            "ebc0389694484d008b0734eb260aa431",
            "9083c2da4c4a47efbc368164b2289847",
            "f5b118d62b8846d6afbf441b0322af52",
            "aa431b9f3f264fdea4756a135971d2f2",
            "a6a7809960bb469589387e27f5b25351",
            "99acf9e2a173467b9f1bdfe968db38ab",
            "264d75d4baad423bbd3a83c074c61867"
          ]
        },
        "outputId": "d80c03d0-18e0-4b44-8757-4ec1c21f60b7"
      },
      "execution_count": 17,
      "outputs": [
        {
          "output_type": "display_data",
          "data": {
            "text/plain": [
              "  0%|          | 0/6336 [00:00<?, ?it/s]"
            ],
            "application/vnd.jupyter.widget-view+json": {
              "version_major": 2,
              "version_minor": 0,
              "model_id": "427c455f912a4af392fc636bbc1b9fa4"
            }
          },
          "metadata": {}
        }
      ]
    },
    {
      "cell_type": "code",
      "source": [
        "# Add 'Length' and 'Popularity' columns to the unique_tracks table\n",
        "unique_tracks = unique_tracks.with_columns('Length', song_lengths, 'Popularity', song_pops)\n",
        "\n",
        "# Display the first 10 rows of the updated unique_tracks table\n",
        "unique_tracks.show(10)"
      ],
      "metadata": {
        "id": "nOle0-vxJH6Y",
        "colab": {
          "base_uri": "https://localhost:8080/",
          "height": 392
        },
        "outputId": "ceec5a6c-b2e6-4207-ebd2-3190ce8c6962"
      },
      "execution_count": 19,
      "outputs": [
        {
          "output_type": "display_data",
          "data": {
            "text/plain": [
              "<IPython.core.display.HTML object>"
            ],
            "text/html": [
              "<table border=\"1\" class=\"dataframe\">\n",
              "    <thead>\n",
              "        <tr>\n",
              "            <th>Artist</th> <th>Track</th> <th>count</th> <th>Length</th> <th>Popularity</th>\n",
              "        </tr>\n",
              "    </thead>\n",
              "    <tbody>\n",
              "        <tr>\n",
              "            <td>\"Les Misérables Original London Cast\" Ensemble     </td> <td>One Day More                           </td> <td>1    </td> <td>216133</td> <td>52        </td>\n",
              "        </tr>\n",
              "        <tr>\n",
              "            <td>\"Les Misérables Original London Cast\" Male Ensemble</td> <td>Prologue: Work Song                    </td> <td>1    </td> <td>203240</td> <td>36        </td>\n",
              "        </tr>\n",
              "        <tr>\n",
              "            <td>*NSYNC                                             </td> <td>Bye Bye Bye                            </td> <td>3    </td> <td>200560</td> <td>71        </td>\n",
              "        </tr>\n",
              "        <tr>\n",
              "            <td>*NSYNC                                             </td> <td>Merry Christmas, Happy Holidays        </td> <td>1    </td> <td>255306</td> <td>45        </td>\n",
              "        </tr>\n",
              "        <tr>\n",
              "            <td>.38 Special                                        </td> <td>Back Where You Belong - Edited Version </td> <td>1    </td> <td>242160</td> <td>47        </td>\n",
              "        </tr>\n",
              "        <tr>\n",
              "            <td>.38 Special                                        </td> <td>If I'd Been the One                    </td> <td>2    </td> <td>235640</td> <td>56        </td>\n",
              "        </tr>\n",
              "        <tr>\n",
              "            <td>11 Acorn Lane                                      </td> <td>You Make Me Happy (Electro Swing Remix)</td> <td>1    </td> <td>179010</td> <td>21        </td>\n",
              "        </tr>\n",
              "        <tr>\n",
              "            <td>2Pac                                               </td> <td>Hail Mary                              </td> <td>1    </td> <td>312373</td> <td>66        </td>\n",
              "        </tr>\n",
              "        <tr>\n",
              "            <td>2Pac                                               </td> <td>Thugz Mansion - 2Pac Original/Acoustic </td> <td>5    </td> <td>252293</td> <td>47        </td>\n",
              "        </tr>\n",
              "        <tr>\n",
              "            <td>4 Non Blondes                                      </td> <td>What's Up?                             </td> <td>1    </td> <td>295533</td> <td>82        </td>\n",
              "        </tr>\n",
              "    </tbody>\n",
              "</table>\n",
              "<p>... (6326 rows omitted)</p>"
            ]
          },
          "metadata": {}
        }
      ]
    },
    {
      "cell_type": "code",
      "source": [
        "# Define a function to combine two strings\n",
        "def combine_str(str1, str2):\n",
        "  return str1+str2\n",
        "\n",
        "# Create a unique identifier column for unique_tracks by combining 'Artist' and 'Track'\n",
        "unique_tracks = unique_tracks.with_column('unique', unique_tracks.apply(combine_str,'Artist','Track'))\n",
        "# Create a unique identifier column for listening_data by combining 'Artist' and 'Track'\n",
        "listening_data = listening_data.with_column('unique', listening_data.apply(combine_str,'Artist','Track'))"
      ],
      "metadata": {
        "id": "Ci2XbtX_R8Rk"
      },
      "execution_count": 21,
      "outputs": []
    },
    {
      "cell_type": "code",
      "source": [
        "# Display the first 3 rows of unique_tracks\n",
        "unique_tracks.show(3)\n",
        "# Sort listening_data by 'unique' and display the first 3 rows\n",
        "listening_data.sort('unique').show(3)"
      ],
      "metadata": {
        "colab": {
          "base_uri": "https://localhost:8080/",
          "height": 363
        },
        "id": "35ps6H8tSp3g",
        "outputId": "00e1d520-7d0e-4f21-9bcd-5746a0df9c87"
      },
      "execution_count": 22,
      "outputs": [
        {
          "output_type": "display_data",
          "data": {
            "text/plain": [
              "<IPython.core.display.HTML object>"
            ],
            "text/html": [
              "<table border=\"1\" class=\"dataframe\">\n",
              "    <thead>\n",
              "        <tr>\n",
              "            <th>Artist</th> <th>Track</th> <th>count</th> <th>Length</th> <th>Popularity</th> <th>unique</th>\n",
              "        </tr>\n",
              "    </thead>\n",
              "    <tbody>\n",
              "        <tr>\n",
              "            <td>\"Les Misérables Original London Cast\" Ensemble     </td> <td>One Day More       </td> <td>1    </td> <td>216133</td> <td>52        </td> <td>\"Les Misérables Original London Cast\" EnsembleOne Day More  </td>\n",
              "        </tr>\n",
              "        <tr>\n",
              "            <td>\"Les Misérables Original London Cast\" Male Ensemble</td> <td>Prologue: Work Song</td> <td>1    </td> <td>203240</td> <td>36        </td> <td>\"Les Misérables Original London Cast\" Male EnsembleProlo ...</td>\n",
              "        </tr>\n",
              "        <tr>\n",
              "            <td>*NSYNC                                             </td> <td>Bye Bye Bye        </td> <td>3    </td> <td>200560</td> <td>71        </td> <td>*NSYNCBye Bye Bye                                           </td>\n",
              "        </tr>\n",
              "    </tbody>\n",
              "</table>\n",
              "<p>... (6333 rows omitted)</p>"
            ]
          },
          "metadata": {}
        },
        {
          "output_type": "display_data",
          "data": {
            "text/plain": [
              "<IPython.core.display.HTML object>"
            ],
            "text/html": [
              "<table border=\"1\" class=\"dataframe\">\n",
              "    <thead>\n",
              "        <tr>\n",
              "            <th>Date</th> <th>Time</th> <th>Artist</th> <th>Album</th> <th>Track</th> <th>unique</th>\n",
              "        </tr>\n",
              "    </thead>\n",
              "    <tbody>\n",
              "        <tr>\n",
              "            <td>28-Mar-25</td> <td> 23:20</td> <td>\"Les Misérables Original London Cast\" Ensemble     </td> <td>Les Misérables (Original 1985 London Cast Recording)</td> <td>One Day More       </td> <td>\"Les Misérables Original London Cast\" EnsembleOne Day More  </td>\n",
              "        </tr>\n",
              "        <tr>\n",
              "            <td>17-Feb-25</td> <td> 20:13</td> <td>\"Les Misérables Original London Cast\" Male Ensemble</td> <td>Les Misérables (Original 1985 London Cast Recording)</td> <td>Prologue: Work Song</td> <td>\"Les Misérables Original London Cast\" Male EnsembleProlo ...</td>\n",
              "        </tr>\n",
              "        <tr>\n",
              "            <td>4-May-19 </td> <td> 16:14</td> <td>*NSYNC                                             </td> <td>No Strings Attached                                 </td> <td>Bye Bye Bye        </td> <td>*NSYNCBye Bye Bye                                           </td>\n",
              "        </tr>\n",
              "    </tbody>\n",
              "</table>\n",
              "<p>... (11044 rows omitted)</p>"
            ]
          },
          "metadata": {}
        }
      ]
    },
    {
      "cell_type": "code",
      "source": [
        "# Join listening_data with unique_tracks on the 'unique' column, dropping redundant columns from unique_tracks\n",
        "listening_data_final = listening_data.join('unique', unique_tracks.drop('Artist','Track','count'))"
      ],
      "metadata": {
        "id": "cb9_D_XkS4dF"
      },
      "execution_count": 23,
      "outputs": []
    },
    {
      "cell_type": "code",
      "source": [
        "# Display the first 3 rows of the final combined data\n",
        "listening_data_final.show(3)"
      ],
      "metadata": {
        "colab": {
          "base_uri": "https://localhost:8080/",
          "height": 208
        },
        "id": "N6mGwUwdTE0w",
        "outputId": "25888075-7093-49cc-c297-e30b538d1f77"
      },
      "execution_count": 24,
      "outputs": [
        {
          "output_type": "display_data",
          "data": {
            "text/plain": [
              "<IPython.core.display.HTML object>"
            ],
            "text/html": [
              "<table border=\"1\" class=\"dataframe\">\n",
              "    <thead>\n",
              "        <tr>\n",
              "            <th>unique</th> <th>Date</th> <th>Time</th> <th>Artist</th> <th>Album</th> <th>Track</th> <th>Length</th> <th>Popularity</th>\n",
              "        </tr>\n",
              "    </thead>\n",
              "    <tbody>\n",
              "        <tr>\n",
              "            <td>\"Les Misérables Original London Cast\" EnsembleOne Day More  </td> <td>28-Mar-25</td> <td> 23:20</td> <td>\"Les Misérables Original London Cast\" Ensemble     </td> <td>Les Misérables (Original 1985 London Cast Recording)</td> <td>One Day More       </td> <td>216133</td> <td>52        </td>\n",
              "        </tr>\n",
              "        <tr>\n",
              "            <td>\"Les Misérables Original London Cast\" Male EnsembleProlo ...</td> <td>17-Feb-25</td> <td> 20:13</td> <td>\"Les Misérables Original London Cast\" Male Ensemble</td> <td>Les Misérables (Original 1985 London Cast Recording)</td> <td>Prologue: Work Song</td> <td>203240</td> <td>36        </td>\n",
              "        </tr>\n",
              "        <tr>\n",
              "            <td>*NSYNCBye Bye Bye                                           </td> <td>4-May-19 </td> <td> 16:14</td> <td>*NSYNC                                             </td> <td>No Strings Attached                                 </td> <td>Bye Bye Bye        </td> <td>200560</td> <td>71        </td>\n",
              "        </tr>\n",
              "    </tbody>\n",
              "</table>\n",
              "<p>... (11044 rows omitted)</p>"
            ]
          },
          "metadata": {}
        }
      ]
    },
    {
      "cell_type": "code",
      "source": [
        "# Count the number of rows in the final data where 'Length' is not -1 (meaning track info was found)\n",
        "listening_data_final.where('Length', are.not_equal_to(-1)).num_rows"
      ],
      "metadata": {
        "colab": {
          "base_uri": "https://localhost:8080/"
        },
        "id": "bTaGYVArTJKn",
        "outputId": "cf292b1c-bd69-41f0-b298-8baa5233023d"
      },
      "execution_count": 25,
      "outputs": [
        {
          "output_type": "execute_result",
          "data": {
            "text/plain": [
              "10597"
            ]
          },
          "metadata": {},
          "execution_count": 25
        }
      ]
    },
    {
      "cell_type": "code",
      "source": [
        "# Group the listening data by 'Artist' to get unique artists and their counts\n",
        "unique_artists = listening_data.group('Artist')\n",
        "# Display the first 3 rows of the unique_artists table\n",
        "unique_artists.show(3)"
      ],
      "metadata": {
        "colab": {
          "base_uri": "https://localhost:8080/",
          "height": 173
        },
        "id": "06g0NjtnUj_Y",
        "outputId": "f68250e5-17b2-4290-e13c-5977c7b8c5bf"
      },
      "execution_count": 26,
      "outputs": [
        {
          "output_type": "display_data",
          "data": {
            "text/plain": [
              "<IPython.core.display.HTML object>"
            ],
            "text/html": [
              "<table border=\"1\" class=\"dataframe\">\n",
              "    <thead>\n",
              "        <tr>\n",
              "            <th>Artist</th> <th>count</th>\n",
              "        </tr>\n",
              "    </thead>\n",
              "    <tbody>\n",
              "        <tr>\n",
              "            <td>\"Les Misérables Original London Cast\" Ensemble     </td> <td>1    </td>\n",
              "        </tr>\n",
              "        <tr>\n",
              "            <td>\"Les Misérables Original London Cast\" Male Ensemble</td> <td>1    </td>\n",
              "        </tr>\n",
              "        <tr>\n",
              "            <td>*NSYNC                                             </td> <td>4    </td>\n",
              "        </tr>\n",
              "    </tbody>\n",
              "</table>\n",
              "<p>... (2605 rows omitted)</p>"
            ]
          },
          "metadata": {}
        }
      ]
    },
    {
      "cell_type": "code",
      "source": [
        "# Import tqdm for progress bar\n",
        "from tqdm.notebook import tqdm\n",
        "\n",
        "# Initialize a list to store artist genres\n",
        "artist_genre = [\"\" for x in range(unique_artists.num_rows)]\n",
        "# Iterate through each unique artist with a progress bar\n",
        "for row_index in tqdm(np.arange(0, unique_artists.num_rows)):\n",
        "  # Get the artist name\n",
        "  artist_name = unique_artists.row(row_index).item('Artist')\n",
        "  # Search Spotify for the artist\n",
        "  artist_id = sp.search(q='artist:' + artist_name, type='artist')\n",
        "  # If artist is found, extract their genres\n",
        "  if len(artist_id['artists']['items']) > 0:\n",
        "    artist_genre[row_index] = artist_id['artists']['items'][0]['genres']\n",
        "  # If artist is not found, assign an empty list for genres\n",
        "  else:\n",
        "    artist_genre[row_index] = []"
      ],
      "metadata": {
        "id": "XUKEQIEZTmld",
        "colab": {
          "base_uri": "https://localhost:8080/",
          "height": 49,
          "referenced_widgets": [
            "8063f1c169bb43b18e5b0526f1efc5ef",
            "bffd0caa5ed34fcfa8603f7b6e008e76",
            "053f4b2acdc544278cf1d3c1b6dfb6ed",
            "3a7c070817c84b8b82a53022b3ed55ff",
            "8d6d0ff4d8fb4b33ba6d8a08600bb280",
            "0631f447f40647a88e0765b484c23929",
            "a75693bcfacb4ebc8a01bc1bf4e73c03",
            "3e8a01e9d43741f7974e941821e3353c",
            "101aa014cf8242e09c217e5f459fe3c4",
            "60311eeed60d4752a0b2fc2bbd83eb08",
            "ed4af58e59b04bd59f523f7696f953ee"
          ]
        },
        "outputId": "c7857b20-6544-4336-ecba-6e71634cf950"
      },
      "execution_count": 28,
      "outputs": [
        {
          "output_type": "display_data",
          "data": {
            "text/plain": [
              "  0%|          | 0/2608 [00:00<?, ?it/s]"
            ],
            "application/vnd.jupyter.widget-view+json": {
              "version_major": 2,
              "version_minor": 0,
              "model_id": "8063f1c169bb43b18e5b0526f1efc5ef"
            }
          },
          "metadata": {}
        }
      ]
    },
    {
      "cell_type": "code",
      "source": [
        "# Add the 'Genres' column to the unique_artists table\n",
        "unique_artists = unique_artists.with_column('Genres', artist_genre)\n",
        "# Display rows 1000, 1001, and 1002 of the unique_artists table\n",
        "unique_artists.take(1000,1001,1002).show(3)"
      ],
      "metadata": {
        "colab": {
          "base_uri": "https://localhost:8080/",
          "height": 143
        },
        "id": "bO4b61QeYD39",
        "outputId": "71a7dabf-b659-486d-8478-5f50d3a1f3c5"
      },
      "execution_count": 29,
      "outputs": [
        {
          "output_type": "display_data",
          "data": {
            "text/plain": [
              "<IPython.core.display.HTML object>"
            ],
            "text/html": [
              "<table border=\"1\" class=\"dataframe\">\n",
              "    <thead>\n",
              "        <tr>\n",
              "            <th>Artist</th> <th>count</th> <th>Genres</th>\n",
              "        </tr>\n",
              "    </thead>\n",
              "    <tbody>\n",
              "        <tr>\n",
              "            <td>Jackie Wilson  </td> <td>9    </td> <td>['northern soul', 'motown', 'classic soul', 'soul', 'doo ...</td>\n",
              "        </tr>\n",
              "        <tr>\n",
              "            <td>Jackson Browne </td> <td>2    </td> <td>['yacht rock', 'folk rock', 'soft rock', 'singer-songwri ...</td>\n",
              "        </tr>\n",
              "        <tr>\n",
              "            <td>Jacky Terrasson</td> <td>1    </td> <td>['jazz', 'french jazz']                                     </td>\n",
              "        </tr>\n",
              "    </tbody>\n",
              "</table>"
            ]
          },
          "metadata": {}
        }
      ]
    },
    {
      "cell_type": "code",
      "source": [
        "# Join the final listening data with unique artists on the 'Artist' column\n",
        "listening_data_final = listening_data_final.join('Artist', unique_artists)"
      ],
      "metadata": {
        "id": "0b8ljDB6YTnB"
      },
      "execution_count": 30,
      "outputs": []
    },
    {
      "cell_type": "code",
      "source": [
        "# Display the first 3 rows of the updated final listening data\n",
        "listening_data_final.show(3)"
      ],
      "metadata": {
        "colab": {
          "base_uri": "https://localhost:8080/",
          "height": 225
        },
        "id": "e8CYs5j0YZrg",
        "outputId": "2e046681-517d-4279-b02a-eac92c3f0931"
      },
      "execution_count": 31,
      "outputs": [
        {
          "output_type": "display_data",
          "data": {
            "text/plain": [
              "<IPython.core.display.HTML object>"
            ],
            "text/html": [
              "<table border=\"1\" class=\"dataframe\">\n",
              "    <thead>\n",
              "        <tr>\n",
              "            <th>Artist</th> <th>unique</th> <th>Date</th> <th>Time</th> <th>Album</th> <th>Track</th> <th>Length</th> <th>Popularity</th> <th>count</th> <th>Genres</th>\n",
              "        </tr>\n",
              "    </thead>\n",
              "    <tbody>\n",
              "        <tr>\n",
              "            <td>\"Les Misérables Original London Cast\" Ensemble     </td> <td>\"Les Misérables Original London Cast\" EnsembleOne Day More  </td> <td>28-Mar-25</td> <td> 23:20</td> <td>Les Misérables (Original 1985 London Cast Recording)</td> <td>One Day More       </td> <td>216133</td> <td>52        </td> <td>1    </td> <td>['musicals']</td>\n",
              "        </tr>\n",
              "        <tr>\n",
              "            <td>\"Les Misérables Original London Cast\" Male Ensemble</td> <td>\"Les Misérables Original London Cast\" Male EnsembleProlo ...</td> <td>17-Feb-25</td> <td> 20:13</td> <td>Les Misérables (Original 1985 London Cast Recording)</td> <td>Prologue: Work Song</td> <td>203240</td> <td>36        </td> <td>1    </td> <td>['musicals']</td>\n",
              "        </tr>\n",
              "        <tr>\n",
              "            <td>*NSYNC                                             </td> <td>*NSYNCBye Bye Bye                                           </td> <td>4-May-19 </td> <td> 16:14</td> <td>No Strings Attached                                 </td> <td>Bye Bye Bye        </td> <td>200560</td> <td>71        </td> <td>4    </td> <td>[]          </td>\n",
              "        </tr>\n",
              "    </tbody>\n",
              "</table>\n",
              "<p>... (11044 rows omitted)</p>"
            ]
          },
          "metadata": {}
        }
      ]
    },
    {
      "cell_type": "code",
      "source": [
        "# Initialize a list to store all genres from all artists\n",
        "all_genres = []\n",
        "# Iterate through the 'Genres' column of unique_artists and extend the all_genres list\n",
        "for genre_list in unique_artists.column('Genres'):\n",
        "  all_genres = all_genres + genre_list"
      ],
      "metadata": {
        "id": "uLAe3fbNYfS5"
      },
      "execution_count": 32,
      "outputs": []
    },
    {
      "cell_type": "code",
      "source": [
        "# Create a temporary table with all the extracted genres\n",
        "temp_table = Table().with_column('Genres', all_genres)\n",
        "\n",
        "# Group the temporary table by 'Genres' to count the occurrences of each genre\n",
        "temp_table = temp_table.group('Genres')"
      ],
      "metadata": {
        "id": "DvTWPkEvZIxa"
      },
      "execution_count": 33,
      "outputs": []
    },
    {
      "cell_type": "code",
      "source": [
        "# Sort the temporary table by genre count in descending order and display the top 3\n",
        "temp_table.sort('count', descending = True).show(3)"
      ],
      "metadata": {
        "colab": {
          "base_uri": "https://localhost:8080/",
          "height": 173
        },
        "id": "NO-rrjQGZTh_",
        "outputId": "fcb27acf-0211-461f-dabf-ae9a237e5515"
      },
      "execution_count": 34,
      "outputs": [
        {
          "output_type": "display_data",
          "data": {
            "text/plain": [
              "<IPython.core.display.HTML object>"
            ],
            "text/html": [
              "<table border=\"1\" class=\"dataframe\">\n",
              "    <thead>\n",
              "        <tr>\n",
              "            <th>Genres</th> <th>count</th>\n",
              "        </tr>\n",
              "    </thead>\n",
              "    <tbody>\n",
              "        <tr>\n",
              "            <td>jazz            </td> <td>205  </td>\n",
              "        </tr>\n",
              "        <tr>\n",
              "            <td>christmas       </td> <td>103  </td>\n",
              "        </tr>\n",
              "        <tr>\n",
              "            <td>children's music</td> <td>81   </td>\n",
              "        </tr>\n",
              "    </tbody>\n",
              "</table>\n",
              "<p>... (396 rows omitted)</p>"
            ]
          },
          "metadata": {}
        }
      ]
    },
    {
      "cell_type": "code",
      "source": [
        "# Define a function to determine the primary genre based on genre counts\n",
        "def primary_genre(genre_list):\n",
        "  if len(genre_list) == 0:\n",
        "    return \"\"\n",
        "  max_count = -1\n",
        "  max_genre = \"\"\n",
        "  # Iterate through the genres of an artist\n",
        "  for genre in genre_list:\n",
        "    # Find the count of the current genre in the overall genre counts table\n",
        "    count = temp_table.where('Genres', are.equal_to(genre)).column('count').item(0)\n",
        "    # Update max_count and max_genre if the current genre has a higher count\n",
        "    if count > max_count:\n",
        "      max_count = count\n",
        "      max_genre = genre\n",
        "  return max_genre\n",
        "\n",
        "# Apply the primary_genre function to the 'Genres' column of unique_artists\n",
        "primary_genres = unique_artists.apply(primary_genre, 'Genres')"
      ],
      "metadata": {
        "id": "8UrQuvcSZkWP",
        "colab": {
          "base_uri": "https://localhost:8080/"
        },
        "outputId": "3304a620-8e33-4904-9ef4-56ed8fe971a3"
      },
      "execution_count": 44,
      "outputs": [
        {
          "output_type": "execute_result",
          "data": {
            "text/plain": [
              "array(['musicals', 'musicals', '', ..., '', \"children's music\", ''],\n",
              "      dtype='<U21')"
            ]
          },
          "metadata": {},
          "execution_count": 44
        }
      ]
    },
    {
      "cell_type": "code",
      "source": [
        "# Add the 'Primary Genre' column to the unique_artists table\n",
        "unique_artists = unique_artists.with_column('Primary Genre', primary_genres)\n",
        "unique_artists.show(3)"
      ],
      "metadata": {
        "id": "j9xk7Ikwaivz",
        "colab": {
          "base_uri": "https://localhost:8080/",
          "height": 173
        },
        "outputId": "3a70059c-9e2c-496d-e0bc-6b2de59233e0"
      },
      "execution_count": 52,
      "outputs": [
        {
          "output_type": "display_data",
          "data": {
            "text/plain": [
              "<IPython.core.display.HTML object>"
            ],
            "text/html": [
              "<table border=\"1\" class=\"dataframe\">\n",
              "    <thead>\n",
              "        <tr>\n",
              "            <th>Artist</th> <th>count</th> <th>Genres</th> <th>Primary Genre</th>\n",
              "        </tr>\n",
              "    </thead>\n",
              "    <tbody>\n",
              "        <tr>\n",
              "            <td>\"Les Misérables Original London Cast\" Ensemble     </td> <td>1    </td> <td>['musicals']</td> <td>musicals     </td>\n",
              "        </tr>\n",
              "        <tr>\n",
              "            <td>\"Les Misérables Original London Cast\" Male Ensemble</td> <td>1    </td> <td>['musicals']</td> <td>musicals     </td>\n",
              "        </tr>\n",
              "        <tr>\n",
              "            <td>*NSYNC                                             </td> <td>4    </td> <td>[]          </td> <td>             </td>\n",
              "        </tr>\n",
              "    </tbody>\n",
              "</table>\n",
              "<p>... (2605 rows omitted)</p>"
            ]
          },
          "metadata": {}
        }
      ]
    },
    {
      "cell_type": "code",
      "metadata": {
        "colab": {
          "base_uri": "https://localhost:8080/",
          "height": 312
        },
        "id": "2839dc9c",
        "outputId": "60b34164-c707-4e8b-d170-7a308124c34e"
      },
      "source": [
        "# Join the final listening data with unique artists on the 'Artist' column to add 'Primary Genre'\n",
        "listening_data_final = listening_data_final.join('Artist', unique_artists.select('Artist', 'Primary Genre'))\n",
        "\n",
        "# Display the first few rows of the updated final listening data\n",
        "listening_data_final.show(3)"
      ],
      "execution_count": 53,
      "outputs": [
        {
          "output_type": "display_data",
          "data": {
            "text/plain": [
              "<IPython.core.display.HTML object>"
            ],
            "text/html": [
              "<table border=\"1\" class=\"dataframe\">\n",
              "    <thead>\n",
              "        <tr>\n",
              "            <th>Artist</th> <th>Date</th> <th>Time</th> <th>Album</th> <th>Track</th> <th>Length</th> <th>Popularity</th> <th>Genres</th> <th>Primary Genre</th>\n",
              "        </tr>\n",
              "    </thead>\n",
              "    <tbody>\n",
              "        <tr>\n",
              "            <td>\"Les Misérables Original London Cast\" Ensemble     </td> <td>28-Mar-25</td> <td> 23:20</td> <td>Les Misérables (Original 1985 London Cast Recording)</td> <td>One Day More       </td> <td>216133</td> <td>52        </td> <td>['musicals']</td> <td>musicals     </td>\n",
              "        </tr>\n",
              "        <tr>\n",
              "            <td>\"Les Misérables Original London Cast\" Male Ensemble</td> <td>17-Feb-25</td> <td> 20:13</td> <td>Les Misérables (Original 1985 London Cast Recording)</td> <td>Prologue: Work Song</td> <td>203240</td> <td>36        </td> <td>['musicals']</td> <td>musicals     </td>\n",
              "        </tr>\n",
              "        <tr>\n",
              "            <td>*NSYNC                                             </td> <td>4-May-19 </td> <td> 16:14</td> <td>No Strings Attached                                 </td> <td>Bye Bye Bye        </td> <td>200560</td> <td>71        </td> <td>[]          </td> <td>             </td>\n",
              "        </tr>\n",
              "    </tbody>\n",
              "</table>\n",
              "<p>... (11044 rows omitted)</p>"
            ]
          },
          "metadata": {}
        }
      ]
    },
    {
      "cell_type": "code",
      "source": [
        "# Drop redundant columns from the final listening data table\n",
        "listening_data_final = listening_data_final.drop('count','unique','Genres_2','Track _2')\n",
        "\n",
        "\n",
        "# Display the first 3 rows of the cleaned final listening data\n",
        "listening_data_final.show(3)"
      ],
      "metadata": {
        "colab": {
          "base_uri": "https://localhost:8080/",
          "height": 312
        },
        "id": "A0c5FHWga3r6",
        "outputId": "a8764061-0d59-482a-b70e-ff11232203ec"
      },
      "execution_count": 54,
      "outputs": [
        {
          "output_type": "display_data",
          "data": {
            "text/plain": [
              "<IPython.core.display.HTML object>"
            ],
            "text/html": [
              "<table border=\"1\" class=\"dataframe\">\n",
              "    <thead>\n",
              "        <tr>\n",
              "            <th>Artist</th> <th>Date</th> <th>Time</th> <th>Album</th> <th>Track</th> <th>Length</th> <th>Popularity</th> <th>Genres</th> <th>Primary Genre</th>\n",
              "        </tr>\n",
              "    </thead>\n",
              "    <tbody>\n",
              "        <tr>\n",
              "            <td>\"Les Misérables Original London Cast\" Ensemble     </td> <td>28-Mar-25</td> <td> 23:20</td> <td>Les Misérables (Original 1985 London Cast Recording)</td> <td>One Day More       </td> <td>216133</td> <td>52        </td> <td>['musicals']</td> <td>musicals     </td>\n",
              "        </tr>\n",
              "        <tr>\n",
              "            <td>\"Les Misérables Original London Cast\" Male Ensemble</td> <td>17-Feb-25</td> <td> 20:13</td> <td>Les Misérables (Original 1985 London Cast Recording)</td> <td>Prologue: Work Song</td> <td>203240</td> <td>36        </td> <td>['musicals']</td> <td>musicals     </td>\n",
              "        </tr>\n",
              "        <tr>\n",
              "            <td>*NSYNC                                             </td> <td>4-May-19 </td> <td> 16:14</td> <td>No Strings Attached                                 </td> <td>Bye Bye Bye        </td> <td>200560</td> <td>71        </td> <td>[]          </td> <td>             </td>\n",
              "        </tr>\n",
              "    </tbody>\n",
              "</table>\n",
              "<p>... (11044 rows omitted)</p>"
            ]
          },
          "metadata": {}
        }
      ]
    },
    {
      "cell_type": "code",
      "source": [
        "# Save the final listening data table to a CSV file\n",
        "listening_data_final.to_csv('all_streams_data.csv')"
      ],
      "metadata": {
        "id": "vn6ofhUjbO8L"
      },
      "execution_count": 55,
      "outputs": []
    },
    {
      "cell_type": "code",
      "source": [
        "old_data = Table.read_table('https://raw.githubusercontent.com/anewlon-deerfield/Data-Science-Materials/refs/heads/main/all_streams_data.csv')\n",
        "old_data.show(3)"
      ],
      "metadata": {
        "colab": {
          "base_uri": "https://localhost:8080/",
          "height": 277
        },
        "id": "4Noi3PqGofmf",
        "outputId": "eec6d994-0d8f-4d00-c1c7-2d5fc4539f94"
      },
      "execution_count": null,
      "outputs": [
        {
          "output_type": "display_data",
          "data": {
            "text/plain": [
              "<IPython.core.display.HTML object>"
            ],
            "text/html": [
              "<table border=\"1\" class=\"dataframe\">\n",
              "    <thead>\n",
              "        <tr>\n",
              "            <th>Month</th> <th>Date</th> <th>Year</th> <th>Time</th> <th>Artist</th> <th>Album</th> <th>Track</th> <th>Length</th> <th>Popularity</th> <th>Genres</th> <th>Primary Genre</th>\n",
              "        </tr>\n",
              "    </thead>\n",
              "    <tbody>\n",
              "        <tr>\n",
              "            <td>Jul  </td> <td>31  </td> <td>2018</td> <td>1:13 </td> <td>!llmind                                                     </td> <td>The Hamilton Mixtape                              </td> <td>Take A Break - Interlude</td> <td>48386 </td> <td>38        </td> <td>[]    </td> <td>nan          </td>\n",
              "        </tr>\n",
              "        <tr>\n",
              "            <td>Aug  </td> <td>26  </td> <td>2017</td> <td>14:44</td> <td>'13: The Musical - Original West End Cast Recording' Company</td> <td>13: The Musical (Original West End Cast Recording)</td> <td>Getting Ready           </td> <td>-1    </td> <td>-1        </td> <td>[]    </td> <td>nan          </td>\n",
              "        </tr>\n",
              "        <tr>\n",
              "            <td>May  </td> <td>10  </td> <td>2017</td> <td>16:21</td> <td>'13: The Musical - Original West End Cast Recording' Company</td> <td>13: The Musical (Original West End Cast Recording)</td> <td>Getting Ready           </td> <td>-1    </td> <td>-1        </td> <td>[]    </td> <td>nan          </td>\n",
              "        </tr>\n",
              "    </tbody>\n",
              "</table>\n",
              "<p>... (89211 rows omitted)</p>"
            ]
          },
          "metadata": {}
        }
      ]
    },
    {
      "cell_type": "code",
      "source": [
        "# Define a function to combine date components into a single string\n",
        "def combine_date(day,month,year):\n",
        "  return str(day)+'-'+month+'-'+(str(year)[2:])\n",
        "\n",
        "# Apply the combine_date function to create a 'Date' column in old_data and drop the original date components\n",
        "old_data = old_data.with_column('Date',old_data.apply(combine_date,'Date','Month','Year')).drop('Month','Year')\n",
        "# Display the first 3 rows of the updated old_data\n",
        "old_data.show(3)\n",
        "# Display the first 3 rows of the final listening data (for comparison)\n",
        "listening_data_final.show(3)"
      ],
      "metadata": {
        "colab": {
          "base_uri": "https://localhost:8080/",
          "height": 382
        },
        "id": "730Ro8DMoo9a",
        "outputId": "e8f749e4-17b4-410f-9067-181e03dfda7b"
      },
      "execution_count": null,
      "outputs": [
        {
          "output_type": "error",
          "ename": "ValueError",
          "evalue": "The column \"Month\" is not in the table. The table contains these columns: Date, Time, Artist, Album, Track, Length, Popularity, Genres, Primary Genre",
          "traceback": [
            "\u001b[0;31m---------------------------------------------------------------------------\u001b[0m",
            "\u001b[0;31mValueError\u001b[0m                                Traceback (most recent call last)",
            "\u001b[0;32m<ipython-input-67-31b5b5d354a3>\u001b[0m in \u001b[0;36m<cell line: 4>\u001b[0;34m()\u001b[0m\n\u001b[1;32m      2\u001b[0m   \u001b[0;32mreturn\u001b[0m \u001b[0mstr\u001b[0m\u001b[0;34m(\u001b[0m\u001b[0mday\u001b[0m\u001b[0;34m)\u001b[0m\u001b[0;34m+\u001b[0m\u001b[0;34m'-'\u001b[0m\u001b[0;34m+\u001b[0m\u001b[0mmonth\u001b[0m\u001b[0;34m+\u001b[0m\u001b[0;34m'-'\u001b[0m\u001b[0;34m+\u001b[0m\u001b[0;34m(\u001b[0m\u001b[0mstr\u001b[0m\u001b[0;34m(\u001b[0m\u001b[0myear\u001b[0m\u001b[0;34m)\u001b[0m\u001b[0;34m[\u001b[0m\u001b[0;36m2\u001b[0m\u001b[0;34m:\u001b[0m\u001b[0;34m]\u001b[0m\u001b[0;34m)\u001b[0m\u001b[0;34m\u001b[0m\u001b[0;34m\u001b[0m\u001b[0m\n\u001b[1;32m      3\u001b[0m \u001b[0;34m\u001b[0m\u001b[0m\n\u001b[0;32m----> 4\u001b[0;31m \u001b[0mold_data\u001b[0m \u001b[0;34m=\u001b[0m \u001b[0mold_data\u001b[0m\u001b[0;34m.\u001b[0m\u001b[0mwith_column\u001b[0m\u001b[0;34m(\u001b[0m\u001b[0;34m'Date'\u001b[0m\u001b[0;34m,\u001b[0m\u001b[0mold_data\u001b[0m\u001b[0;34m.\u001b[0m\u001b[0mapply\u001b[0m\u001b[0;34m(\u001b[0m\u001b[0mcombine_date\u001b[0m\u001b[0;34m,\u001b[0m\u001b[0;34m'Date'\u001b[0m\u001b[0;34m,\u001b[0m\u001b[0;34m'Month'\u001b[0m\u001b[0;34m,\u001b[0m\u001b[0;34m'Year'\u001b[0m\u001b[0;34m)\u001b[0m\u001b[0;34m)\u001b[0m\u001b[0;34m.\u001b[0m\u001b[0mdrop\u001b[0m\u001b[0;34m(\u001b[0m\u001b[0;34m'Month'\u001b[0m\u001b[0;34m,\u001b[0m\u001b[0;34m'Year'\u001b[0m\u001b[0;34m)\u001b[0m\u001b[0;34m\u001b[0m\u001b[0;34m\u001b[0m\u001b[0m\n\u001b[0m\u001b[1;32m      5\u001b[0m \u001b[0mold_data\u001b[0m\u001b[0;34m.\u001b[0m\u001b[0mshow\u001b[0m\u001b[0;34m(\u001b[0m\u001b[0;36m3\u001b[0m\u001b[0;34m)\u001b[0m\u001b[0;34m\u001b[0m\u001b[0;34m\u001b[0m\u001b[0m\n\u001b[1;32m      6\u001b[0m \u001b[0mlistening_data_final\u001b[0m\u001b[0;34m.\u001b[0m\u001b[0mshow\u001b[0m\u001b[0;34m(\u001b[0m\u001b[0;36m3\u001b[0m\u001b[0;34m)\u001b[0m\u001b[0;34m\u001b[0m\u001b[0;34m\u001b[0m\u001b[0m\n",
            "\u001b[0;32m/usr/local/lib/python3.10/dist-packages/datascience/tables.py\u001b[0m in \u001b[0;36mapply\u001b[0;34m(self, fn, *column_or_columns)\u001b[0m\n\u001b[1;32m    533\u001b[0m                    \"column lists are deprecated; pass each as an argument\", FutureWarning)\n\u001b[1;32m    534\u001b[0m                 \u001b[0mcolumn_or_columns\u001b[0m \u001b[0;34m=\u001b[0m \u001b[0mcolumn_or_columns\u001b[0m\u001b[0;34m[\u001b[0m\u001b[0;36m0\u001b[0m\u001b[0;34m]\u001b[0m\u001b[0;34m\u001b[0m\u001b[0;34m\u001b[0m\u001b[0m\n\u001b[0;32m--> 535\u001b[0;31m             \u001b[0mrows\u001b[0m \u001b[0;34m=\u001b[0m \u001b[0mzip\u001b[0m\u001b[0;34m(\u001b[0m\u001b[0;34m*\u001b[0m\u001b[0mself\u001b[0m\u001b[0;34m.\u001b[0m\u001b[0mselect\u001b[0m\u001b[0;34m(\u001b[0m\u001b[0;34m*\u001b[0m\u001b[0mcolumn_or_columns\u001b[0m\u001b[0;34m)\u001b[0m\u001b[0;34m.\u001b[0m\u001b[0mcolumns\u001b[0m\u001b[0;34m)\u001b[0m\u001b[0;34m\u001b[0m\u001b[0;34m\u001b[0m\u001b[0m\n\u001b[0m\u001b[1;32m    536\u001b[0m             \u001b[0;32mreturn\u001b[0m \u001b[0mnp\u001b[0m\u001b[0;34m.\u001b[0m\u001b[0marray\u001b[0m\u001b[0;34m(\u001b[0m\u001b[0;34m[\u001b[0m\u001b[0mfn\u001b[0m\u001b[0;34m(\u001b[0m\u001b[0;34m*\u001b[0m\u001b[0mrow\u001b[0m\u001b[0;34m)\u001b[0m \u001b[0;32mfor\u001b[0m \u001b[0mrow\u001b[0m \u001b[0;32min\u001b[0m \u001b[0mrows\u001b[0m\u001b[0;34m]\u001b[0m\u001b[0;34m)\u001b[0m\u001b[0;34m\u001b[0m\u001b[0;34m\u001b[0m\u001b[0m\n\u001b[1;32m    537\u001b[0m \u001b[0;34m\u001b[0m\u001b[0m\n",
            "\u001b[0;32m/usr/local/lib/python3.10/dist-packages/datascience/tables.py\u001b[0m in \u001b[0;36mselect\u001b[0;34m(self, *column_or_columns)\u001b[0m\n\u001b[1;32m   1250\u001b[0m         \u001b[0mtable\u001b[0m \u001b[0;34m=\u001b[0m \u001b[0mtype\u001b[0m\u001b[0;34m(\u001b[0m\u001b[0mself\u001b[0m\u001b[0;34m)\u001b[0m\u001b[0;34m(\u001b[0m\u001b[0;34m)\u001b[0m\u001b[0;34m\u001b[0m\u001b[0;34m\u001b[0m\u001b[0m\n\u001b[1;32m   1251\u001b[0m         \u001b[0;32mfor\u001b[0m \u001b[0mlabel\u001b[0m \u001b[0;32min\u001b[0m \u001b[0mlabels\u001b[0m\u001b[0;34m:\u001b[0m\u001b[0;34m\u001b[0m\u001b[0;34m\u001b[0m\u001b[0m\n\u001b[0;32m-> 1252\u001b[0;31m             \u001b[0mself\u001b[0m\u001b[0;34m.\u001b[0m\u001b[0m_add_column_and_format\u001b[0m\u001b[0;34m(\u001b[0m\u001b[0mtable\u001b[0m\u001b[0;34m,\u001b[0m \u001b[0mlabel\u001b[0m\u001b[0;34m,\u001b[0m \u001b[0mnp\u001b[0m\u001b[0;34m.\u001b[0m\u001b[0mcopy\u001b[0m\u001b[0;34m(\u001b[0m\u001b[0mself\u001b[0m\u001b[0;34m[\u001b[0m\u001b[0mlabel\u001b[0m\u001b[0;34m]\u001b[0m\u001b[0;34m)\u001b[0m\u001b[0;34m)\u001b[0m\u001b[0;34m\u001b[0m\u001b[0;34m\u001b[0m\u001b[0m\n\u001b[0m\u001b[1;32m   1253\u001b[0m         \u001b[0;32mreturn\u001b[0m \u001b[0mtable\u001b[0m\u001b[0;34m\u001b[0m\u001b[0;34m\u001b[0m\u001b[0m\n\u001b[1;32m   1254\u001b[0m \u001b[0;34m\u001b[0m\u001b[0m\n",
            "\u001b[0;32m/usr/local/lib/python3.10/dist-packages/datascience/tables.py\u001b[0m in \u001b[0;36m__getitem__\u001b[0;34m(self, index_or_label)\u001b[0m\n\u001b[1;32m    259\u001b[0m \u001b[0;34m\u001b[0m\u001b[0m\n\u001b[1;32m    260\u001b[0m     \u001b[0;32mdef\u001b[0m \u001b[0m__getitem__\u001b[0m\u001b[0;34m(\u001b[0m\u001b[0mself\u001b[0m\u001b[0;34m,\u001b[0m \u001b[0mindex_or_label\u001b[0m\u001b[0;34m)\u001b[0m\u001b[0;34m:\u001b[0m\u001b[0;34m\u001b[0m\u001b[0;34m\u001b[0m\u001b[0m\n\u001b[0;32m--> 261\u001b[0;31m         \u001b[0;32mreturn\u001b[0m \u001b[0mself\u001b[0m\u001b[0;34m.\u001b[0m\u001b[0mcolumn\u001b[0m\u001b[0;34m(\u001b[0m\u001b[0mindex_or_label\u001b[0m\u001b[0;34m)\u001b[0m\u001b[0;34m\u001b[0m\u001b[0;34m\u001b[0m\u001b[0m\n\u001b[0m\u001b[1;32m    262\u001b[0m \u001b[0;34m\u001b[0m\u001b[0m\n\u001b[1;32m    263\u001b[0m     \u001b[0;32mdef\u001b[0m \u001b[0m__setitem__\u001b[0m\u001b[0;34m(\u001b[0m\u001b[0mself\u001b[0m\u001b[0;34m,\u001b[0m \u001b[0mindex_or_label\u001b[0m\u001b[0;34m,\u001b[0m \u001b[0mvalues\u001b[0m\u001b[0;34m)\u001b[0m\u001b[0;34m:\u001b[0m\u001b[0;34m\u001b[0m\u001b[0;34m\u001b[0m\u001b[0m\n",
            "\u001b[0;32m/usr/local/lib/python3.10/dist-packages/datascience/tables.py\u001b[0m in \u001b[0;36mcolumn\u001b[0;34m(self, index_or_label)\u001b[0m\n\u001b[1;32m    406\u001b[0m         if (isinstance(index_or_label, str)\n\u001b[1;32m    407\u001b[0m                 and index_or_label not in self.labels):\n\u001b[0;32m--> 408\u001b[0;31m             raise ValueError(\n\u001b[0m\u001b[1;32m    409\u001b[0m                 \u001b[0;34m'The column \"{}\" is not in the table. The table contains '\u001b[0m\u001b[0;34m\u001b[0m\u001b[0;34m\u001b[0m\u001b[0m\n\u001b[1;32m    410\u001b[0m                 \u001b[0;34m'these columns: {}'\u001b[0m\u001b[0;34m\u001b[0m\u001b[0;34m\u001b[0m\u001b[0m\n",
            "\u001b[0;31mValueError\u001b[0m: The column \"Month\" is not in the table. The table contains these columns: Date, Time, Artist, Album, Track, Length, Popularity, Genres, Primary Genre"
          ]
        }
      ]
    },
    {
      "cell_type": "code",
      "source": [
        "\n"
      ],
      "metadata": {
        "id": "mM2mzZQZpeXx"
      },
      "execution_count": null,
      "outputs": []
    },
    {
      "cell_type": "code",
      "source": [
        "# Display the first 3 rows of old_data\n",
        "old_data.show(3)\n",
        "# Display the first 3 rows of listening_data_final\n",
        "listening_data_final.show(3)\n",
        "# Relabel the 'Track ' column to 'Track' in listening_data_final (fixing a potential typo)\n",
        "listening_data_final = listening_data_final.relabeled('Track ','Track')"
      ],
      "metadata": {
        "colab": {
          "base_uri": "https://localhost:8080/",
          "height": 398
        },
        "id": "noCaDJU_piaE",
        "outputId": "4ddec76f-c174-4429-8fe9-e7ed4a053302"
      },
      "execution_count": null,
      "outputs": [
        {
          "output_type": "display_data",
          "data": {
            "text/plain": [
              "<IPython.core.display.HTML object>"
            ],
            "text/html": [
              "<table border=\"1\" class=\"dataframe\">\n",
              "    <thead>\n",
              "        <tr>\n",
              "            <th>Date</th> <th>Time</th> <th>Artist</th> <th>Album</th> <th>Track</th> <th>Length</th> <th>Popularity</th> <th>Genres</th> <th>Primary Genre</th>\n",
              "        </tr>\n",
              "    </thead>\n",
              "    <tbody>\n",
              "        <tr>\n",
              "            <td>31-Jul-18</td> <td>1:13 </td> <td>!llmind                                                     </td> <td>The Hamilton Mixtape                              </td> <td>Take A Break - Interlude</td> <td>48386 </td> <td>38        </td> <td>[]    </td> <td>nan          </td>\n",
              "        </tr>\n",
              "        <tr>\n",
              "            <td>26-Aug-17</td> <td>14:44</td> <td>'13: The Musical - Original West End Cast Recording' Company</td> <td>13: The Musical (Original West End Cast Recording)</td> <td>Getting Ready           </td> <td>-1    </td> <td>-1        </td> <td>[]    </td> <td>nan          </td>\n",
              "        </tr>\n",
              "        <tr>\n",
              "            <td>10-May-17</td> <td>16:21</td> <td>'13: The Musical - Original West End Cast Recording' Company</td> <td>13: The Musical (Original West End Cast Recording)</td> <td>Getting Ready           </td> <td>-1    </td> <td>-1        </td> <td>[]    </td> <td>nan          </td>\n",
              "        </tr>\n",
              "    </tbody>\n",
              "</table>\n",
              "<p>... (89211 rows omitted)</p>"
            ]
          },
          "metadata": {}
        },
        {
          "output_type": "display_data",
          "data": {
            "text/plain": [
              "<IPython.core.display.HTML object>"
            ],
            "text/html": [
              "<table border=\"1\" class=\"dataframe\">\n",
              "    <thead>\n",
              "        <tr>\n",
              "            <th>Artist</th> <th>Date</th> <th>Time</th> <th>Album</th> <th>Track </th> <th>Length</th> <th>Popularity</th> <th>Genres</th> <th>Primary Genre</th>\n",
              "        </tr>\n",
              "    </thead>\n",
              "    <tbody>\n",
              "        <tr>\n",
              "            <td>#1 Dads  </td> <td>7-May-24 </td> <td>0:19 </td> <td>About Face</td> <td>Camberwell     </td> <td>229960</td> <td>41        </td> <td>['australian indie']</td> <td>australian indie</td>\n",
              "        </tr>\n",
              "        <tr>\n",
              "            <td>.Wave.   </td> <td>17-Sep-24</td> <td>3:06 </td> <td>Pretender </td> <td>Engadine Valley</td> <td>195698</td> <td>10        </td> <td>['florida rap']     </td> <td>florida rap     </td>\n",
              "        </tr>\n",
              "        <tr>\n",
              "            <td>.anxious.</td> <td>6-Oct-24 </td> <td>16:11</td> <td>3am EP    </td> <td>memories       </td> <td>116756</td> <td>34        </td> <td>['lo-fi beats']     </td> <td>lo-fi beats     </td>\n",
              "        </tr>\n",
              "    </tbody>\n",
              "</table>\n",
              "<p>... (5800 rows omitted)</p>"
            ]
          },
          "metadata": {}
        }
      ]
    },
    {
      "cell_type": "code",
      "source": [
        "# Append the final listening data to the old data\n",
        "listening_data_final = old_data.append(listening_data_final)"
      ],
      "metadata": {
        "id": "ssFH0IRvp3sX"
      },
      "execution_count": null,
      "outputs": []
    },
    {
      "cell_type": "markdown",
      "source": [],
      "metadata": {
        "id": "n7cy_9kHRe1h"
      }
    },
    {
      "cell_type": "code",
      "source": [
        "# Read the combined data from a CSV file hosted on GitHub\n",
        "data = Table.read_table('https://raw.githubusercontent.com/anewlon-deerfield/Data-Science-Materials/refs/heads/main/all_streams_data.csv')"
      ],
      "metadata": {
        "id": "ZEZWdGtdSEr9"
      },
      "execution_count": 58,
      "outputs": []
    },
    {
      "cell_type": "code",
      "source": [
        "# Display the first 5 rows of the combined data\n",
        "data.show(5)"
      ],
      "metadata": {
        "colab": {
          "base_uri": "https://localhost:8080/",
          "height": 548
        },
        "id": "neRDkkasRfSe",
        "outputId": "8607a0d8-1611-4d12-ac88-743f452a6f2c"
      },
      "execution_count": null,
      "outputs": [
        {
          "output_type": "display_data",
          "data": {
            "text/plain": [
              "<IPython.core.display.HTML object>"
            ],
            "text/html": [
              "<table border=\"1\" class=\"dataframe\">\n",
              "    <thead>\n",
              "        <tr>\n",
              "            <th>Date</th> <th>Time</th> <th>Artist</th> <th>Album</th> <th>Track</th> <th>Length</th> <th>Popularity</th> <th>Genres</th> <th>Primary Genre</th>\n",
              "        </tr>\n",
              "    </thead>\n",
              "    <tbody>\n",
              "        <tr>\n",
              "            <td>31-Jul-18</td> <td>1:13 </td> <td>!llmind                                                     </td> <td>The Hamilton Mixtape                                        </td> <td>Take A Break - Interlude</td> <td>48386 </td> <td>38        </td> <td>[]          </td> <td>nan          </td>\n",
              "        </tr>\n",
              "        <tr>\n",
              "            <td>26-Aug-17</td> <td>14:44</td> <td>'13: The Musical - Original West End Cast Recording' Company</td> <td>13: The Musical (Original West End Cast Recording)          </td> <td>Getting Ready           </td> <td>-1    </td> <td>-1        </td> <td>[]          </td> <td>nan          </td>\n",
              "        </tr>\n",
              "        <tr>\n",
              "            <td>10-May-17</td> <td>16:21</td> <td>'13: The Musical - Original West End Cast Recording' Company</td> <td>13: The Musical (Original West End Cast Recording)          </td> <td>Getting Ready           </td> <td>-1    </td> <td>-1        </td> <td>[]          </td> <td>nan          </td>\n",
              "        </tr>\n",
              "        <tr>\n",
              "            <td>22-Oct-17</td> <td>17:46</td> <td>'In The Heights' Original Broadway Company                  </td> <td>In The Heights (Original Broadway Cast Recording)           </td> <td>Breathe                 </td> <td>244066</td> <td>52        </td> <td>['broadway']</td> <td>broadway     </td>\n",
              "        </tr>\n",
              "        <tr>\n",
              "            <td>2-Sep-19 </td> <td>20:38</td> <td>'Legally Blonde' Ensemble                                   </td> <td>Legally Blonde The Musical (Original Broadway Cast Recor ...</td> <td>Blood In The Water      </td> <td>289960</td> <td>45        </td> <td>['broadway']</td> <td>broadway     </td>\n",
              "        </tr>\n",
              "    </tbody>\n",
              "</table>\n",
              "<p>... (100815 rows omitted)</p>"
            ]
          },
          "metadata": {}
        }
      ]
    },
    {
      "cell_type": "code",
      "source": [
        "# Group the data by 'Artist' and 'Track', sort by count in descending order, and show the top 6\n",
        "data.group(['Artist','Track']).sort('count',descending = True).show(6)"
      ],
      "metadata": {
        "colab": {
          "base_uri": "https://localhost:8080/",
          "height": 267
        },
        "id": "SzCikoJcRbVn",
        "outputId": "d898520b-fafb-4259-99e0-1bf94969a5a6"
      },
      "execution_count": null,
      "outputs": [
        {
          "output_type": "display_data",
          "data": {
            "text/plain": [
              "<IPython.core.display.HTML object>"
            ],
            "text/html": [
              "<table border=\"1\" class=\"dataframe\">\n",
              "    <thead>\n",
              "        <tr>\n",
              "            <th>Artist</th> <th>Track</th> <th>count</th>\n",
              "        </tr>\n",
              "    </thead>\n",
              "    <tbody>\n",
              "        <tr>\n",
              "            <td>nan            </td> <td>nan            </td> <td>2054 </td>\n",
              "        </tr>\n",
              "        <tr>\n",
              "            <td>Modern Baseball</td> <td>Your Graduation</td> <td>258  </td>\n",
              "        </tr>\n",
              "        <tr>\n",
              "            <td>Heyrocco       </td> <td>Melt           </td> <td>176  </td>\n",
              "        </tr>\n",
              "        <tr>\n",
              "            <td>Modern Baseball</td> <td>Mass           </td> <td>172  </td>\n",
              "        </tr>\n",
              "        <tr>\n",
              "            <td>Modern Baseball</td> <td>Fine, Great    </td> <td>171  </td>\n",
              "        </tr>\n",
              "        <tr>\n",
              "            <td>Pinegrove      </td> <td>Old Friends    </td> <td>168  </td>\n",
              "        </tr>\n",
              "    </tbody>\n",
              "</table>\n",
              "<p>... (18159 rows omitted)</p>"
            ]
          },
          "metadata": {}
        }
      ]
    },
    {
      "cell_type": "code",
      "source": [
        "# Group the data by 'Artist', sort by count in descending order, and show the top 6\n",
        "data.group('Artist').sort('count',descending = True).show(6)"
      ],
      "metadata": {
        "colab": {
          "base_uri": "https://localhost:8080/",
          "height": 267
        },
        "id": "kO3HMVgGSr4S",
        "outputId": "dba7269b-c055-4c07-dad1-10b8e8125c9b"
      },
      "execution_count": null,
      "outputs": [
        {
          "output_type": "display_data",
          "data": {
            "text/plain": [
              "<IPython.core.display.HTML object>"
            ],
            "text/html": [
              "<table border=\"1\" class=\"dataframe\">\n",
              "    <thead>\n",
              "        <tr>\n",
              "            <th>Artist</th> <th>count</th>\n",
              "        </tr>\n",
              "    </thead>\n",
              "    <tbody>\n",
              "        <tr>\n",
              "            <td>Modern Baseball  </td> <td>3421 </td>\n",
              "        </tr>\n",
              "        <tr>\n",
              "            <td>The Front Bottoms</td> <td>2617 </td>\n",
              "        </tr>\n",
              "        <tr>\n",
              "            <td>nan              </td> <td>2054 </td>\n",
              "        </tr>\n",
              "        <tr>\n",
              "            <td>Heyrocco         </td> <td>1478 </td>\n",
              "        </tr>\n",
              "        <tr>\n",
              "            <td>Sorority Noise   </td> <td>1121 </td>\n",
              "        </tr>\n",
              "        <tr>\n",
              "            <td>The Frights      </td> <td>1084 </td>\n",
              "        </tr>\n",
              "    </tbody>\n",
              "</table>\n",
              "<p>... (6548 rows omitted)</p>"
            ]
          },
          "metadata": {}
        }
      ]
    },
    {
      "cell_type": "code",
      "source": [
        "# Group the data by 'Primary Genre', sort by count in descending order, and show the top 6\n",
        "data.group('Primary Genre').sort('count',descending = True).show(6)"
      ],
      "metadata": {
        "colab": {
          "base_uri": "https://localhost:8080/",
          "height": 267
        },
        "id": "SC89Hvw3S-rq",
        "outputId": "911590dc-bddb-4e4e-f27a-5f53eabb3570"
      },
      "execution_count": null,
      "outputs": [
        {
          "output_type": "display_data",
          "data": {
            "text/plain": [
              "<IPython.core.display.HTML object>"
            ],
            "text/html": [
              "<table border=\"1\" class=\"dataframe\">\n",
              "    <thead>\n",
              "        <tr>\n",
              "            <th>Primary Genre</th> <th>count</th>\n",
              "        </tr>\n",
              "    </thead>\n",
              "    <tbody>\n",
              "        <tr>\n",
              "            <td>pov: indie      </td> <td>16298</td>\n",
              "        </tr>\n",
              "        <tr>\n",
              "            <td>nan             </td> <td>11813</td>\n",
              "        </tr>\n",
              "        <tr>\n",
              "            <td>pop             </td> <td>9253 </td>\n",
              "        </tr>\n",
              "        <tr>\n",
              "            <td>australian indie</td> <td>3791 </td>\n",
              "        </tr>\n",
              "        <tr>\n",
              "            <td>pop punk        </td> <td>3147 </td>\n",
              "        </tr>\n",
              "        <tr>\n",
              "            <td>bubblegrunge    </td> <td>3141 </td>\n",
              "        </tr>\n",
              "    </tbody>\n",
              "</table>\n",
              "<p>... (850 rows omitted)</p>"
            ]
          },
          "metadata": {}
        }
      ]
    },
    {
      "cell_type": "code",
      "source": [
        "# Get the number of rows in the data\n",
        "data.num_rows"
      ],
      "metadata": {
        "colab": {
          "base_uri": "https://localhost:8080/"
        },
        "id": "A9poDZ-MTH2o",
        "outputId": "906b17a5-f62a-4923-f997-3921507be5b2"
      },
      "execution_count": null,
      "outputs": [
        {
          "output_type": "execute_result",
          "data": {
            "text/plain": [
              "100820"
            ]
          },
          "metadata": {},
          "execution_count": 19
        }
      ]
    },
    {
      "cell_type": "code",
      "source": [
        "# Calculate the total length of tracks with length > 0 in days\n",
        "sum(data.where('Length',are.above(0)).column('Length'))/1000/60/60/24"
      ],
      "metadata": {
        "colab": {
          "base_uri": "https://localhost:8080/"
        },
        "id": "wmds5AIuTSPN",
        "outputId": "0e5c9f7c-3cf7-4922-c815-ffe1a2379ebf"
      },
      "execution_count": null,
      "outputs": [
        {
          "output_type": "execute_result",
          "data": {
            "text/plain": [
              "240.96876591435182"
            ]
          },
          "metadata": {},
          "execution_count": 25
        }
      ]
    },
    {
      "cell_type": "code",
      "source": [
        "# Calculate the total length of all tracks in days\n",
        "sum(data.column('Length'))/1000/60/60/24"
      ],
      "metadata": {
        "colab": {
          "base_uri": "https://localhost:8080/"
        },
        "id": "67mhswCjTtpZ",
        "outputId": "0bb3bbf2-a73d-4055-df74-5944c71afdf5"
      },
      "execution_count": null,
      "outputs": [
        {
          "output_type": "execute_result",
          "data": {
            "text/plain": [
              "346994.96706666669"
            ]
          },
          "metadata": {},
          "execution_count": 27
        }
      ]
    },
    {
      "cell_type": "code",
      "source": [
        "# Group the data by 'Date' and sum the 'Length', sort by sum in descending order, and show the top 2\n",
        "data.group('Date',sum).sort('Length sum',descending = True).show(2)"
      ],
      "metadata": {
        "colab": {
          "base_uri": "https://localhost:8080/",
          "height": 176
        },
        "id": "pm716uubT9bU",
        "outputId": "08e357bc-e0c2-4be9-fb49-285a1050901b"
      },
      "execution_count": null,
      "outputs": [
        {
          "output_type": "display_data",
          "data": {
            "text/plain": [
              "<IPython.core.display.HTML object>"
            ],
            "text/html": [
              "<table border=\"1\" class=\"dataframe\">\n",
              "    <thead>\n",
              "        <tr>\n",
              "            <th>Date</th> <th>Time sum</th> <th>Artist sum</th> <th>Album sum</th> <th>Track sum</th> <th>Length sum</th> <th>Popularity sum</th> <th>Genres sum</th> <th>Primary Genre sum</th>\n",
              "        </tr>\n",
              "    </thead>\n",
              "    <tbody>\n",
              "        <tr>\n",
              "            <td>nan     </td> <td>        </td> <td>          </td> <td>         </td> <td>         </td> <td>8.04938e+08</td> <td>127348        </td> <td>          </td> <td>                 </td>\n",
              "        </tr>\n",
              "        <tr>\n",
              "            <td>2-Sep-19</td> <td>        </td> <td>          </td> <td>         </td> <td>         </td> <td>6.07972e+07</td> <td>13891         </td> <td>          </td> <td>                 </td>\n",
              "        </tr>\n",
              "    </tbody>\n",
              "</table>\n",
              "<p>... (1939 rows omitted)</p>"
            ]
          },
          "metadata": {}
        }
      ]
    },
    {
      "cell_type": "markdown",
      "source": [],
      "metadata": {
        "id": "qD2g_gAjS-ci"
      }
    },
    {
      "cell_type": "code",
      "source": [
        "# Calculate the total length of tracks by 'Modern Baseball' with length > 0 in seconds\n",
        "sum(data.where('Length',are.above(0)).where('Artist','Modern Baseball').column('Length'))/1000"
      ],
      "metadata": {
        "colab": {
          "base_uri": "https://localhost:8080/"
        },
        "id": "0N8Tx5YHUVlX",
        "outputId": "c8c6fd81-4dde-49ea-a69f-3769db436a76"
      },
      "execution_count": null,
      "outputs": [
        {
          "output_type": "execute_result",
          "data": {
            "text/plain": [
              "531821.26300000004"
            ]
          },
          "metadata": {},
          "execution_count": 39
        }
      ]
    }
  ]
}